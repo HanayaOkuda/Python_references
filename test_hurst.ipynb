{
 "cells": [
  {
   "cell_type": "code",
   "execution_count": 1,
   "metadata": {},
   "outputs": [],
   "source": [
    "import numpy as np\n",
    "import math\n",
    "import matplotlib.pyplot as plt"
   ]
  },
  {
   "cell_type": "code",
   "execution_count": 2,
   "metadata": {},
   "outputs": [],
   "source": [
    "def get_hurst(x,y) : # binary search\n",
    "    approx = []\n",
    "    bmin = 0\n",
    "    bmax = 3\n",
    "    tol = 1.e-8\n",
    "    \n",
    "    b = bmin\n",
    "    xb = x**(-b)\n",
    "    dmin = np.sum(y*xb)*np.sum(xb**2*np.log(x))-np.sum(y*xb*np.log(x))*np.sum(xb**2)\n",
    "    \n",
    "    b = bmax\n",
    "    xb = x**(-b)\n",
    "    dmax = np.sum(y*xb)*np.sum(xb**2*np.log(x))-np.sum(y*xb*np.log(x))*np.sum(xb**2)\n",
    "    \n",
    "    increase = dmin < dmax\n",
    "    \n",
    "    while bmax-bmin > tol :\n",
    "        b = 0.5*(bmin+bmax)\n",
    "        approx.append(b)\n",
    "        xb = x**(-b)\n",
    "        d = np.sum(y*xb)*np.sum(xb**2*np.log(x))-np.sum(y*xb*np.log(x))*np.sum(xb**2)\n",
    "        if d == 0 :\n",
    "            break\n",
    "        elif (np.bitwise_xor(increase,d < 0)) :\n",
    "            bmax = b\n",
    "        else :\n",
    "            bmin = b\n",
    "    \n",
    "    approx.append(0.5*(bmin+bmax))\n",
    "    #plt.plot(approx,color='red',marker='o')\n",
    "    #plt.hlines([0.9],0,len(approx)-1,color='blue', linestyles='dashed')\n",
    "    #plt.show()\n",
    "    b = 0.5*(bmin+bmax)\n",
    "    xb = x**(-b)\n",
    "    c = np.sum(y*xb)/np.sum(xb**2)\n",
    "    \n",
    "    return b, c\n",
    "\n",
    "def iter_hurst(x,y) :\n",
    "    b0, c0 = get_hurst(x,y)\n",
    "    rsd0 = np.average((y-c0*x**(-b0))**2)\n",
    "    for i in range(1,int(len(x)/2)) :\n",
    "        bi, ci = get_hurst(x[i:-1],y[i:-1])\n",
    "        rsdi = np.average((y[i:-1]-ci*x[i:-1]**(-bi))**2)\n",
    "        if rsd0 < rsdi :\n",
    "            break\n",
    "        b0 = bi\n",
    "        c0 = ci\n",
    "        rsd0 = rsdi\n",
    "    return b0, c0"
   ]
  },
  {
   "cell_type": "code",
   "execution_count": 3,
   "metadata": {},
   "outputs": [
    {
     "name": "stdout",
     "output_type": "stream",
     "text": [
      "0.5410052994266152 0.6217959368318595\n",
      "1.006557092074338 1.6105853853881382\n",
      "1.103161378763616 2.446803578268381\n"
     ]
    },
    {
     "data": {
      "image/png": "[encoded data removed]",
      "text/plain": [
       "<Figure size 432x288 with 1 Axes>"
      ]
     },
     "metadata": {
      "needs_background": "light"
     },
     "output_type": "display_data"
    }
   ],
   "source": [
    "n = 1024\n",
    "dx = 0.1\n",
    "a = 0.9\n",
    "c = 1.5\n",
    "x = np.zeros(n, dtype=np.float64)\n",
    "\n",
    "for i in range(n) :\n",
    "    x[i] = (i+1)*dx\n",
    "y = c*x**(-a) - 0.001*np.random.normal(11,2,n)\n",
    "\n",
    "for i in range(n) :\n",
    "    if y[i] > 1 :\n",
    "        y[i] = 1- 0.1*np.random.normal(1,2,1)\n",
    "\n",
    "plt.axes([0,0,1,1])\n",
    "plt.xscale('log')\n",
    "plt.yscale('log')\n",
    "plt.plot(x,y,color='red',linestyle='-',label='data')\n",
    "\n",
    "p,q = get_hurst(x,y)\n",
    "print(str(p)+\" \"+str(q))\n",
    "yh = q*x**(-p)\n",
    "plt.plot(x,yh,color='blue',linestyle='--',label='normal')\n",
    "\n",
    "p,q = np.polyfit(np.log(x),np.log(y),1)\n",
    "p = -p\n",
    "q = np.exp(q)\n",
    "print(str(p)+\" \"+str(q))\n",
    "yl = q*x**(-p)\n",
    "plt.plot(x,yl,color='green',linestyle=':',label='log-log')\n",
    "\n",
    "p,q = iter_hurst(x,y)\n",
    "print(str(p)+\" \"+str(q))\n",
    "yh = q*x**(-p)\n",
    "plt.plot(x,yh,color='yellow',linestyle='-.',label='iterative')\n",
    "\n",
    "plt.legend(loc='best')\n",
    "plt.show()"
   ]
  },
  {
   "cell_type": "code",
   "execution_count": null,
   "metadata": {},
   "outputs": [],
   "source": []
  },
  {
   "cell_type": "code",
   "execution_count": null,
   "metadata": {},
   "outputs": [],
   "source": []
  }
 ],
 "metadata": {
  "kernelspec": {
   "display_name": "Python 3",
   "language": "python",
   "name": "python3"
  },
  "language_info": {
   "codemirror_mode": {
    "name": "ipython",
    "version": 3
   },
   "file_extension": ".py",
   "mimetype": "text/x-python",
   "name": "python",
   "nbconvert_exporter": "python",
   "pygments_lexer": "ipython3",
   "version": "3.7.2"
  }
 },
 "nbformat": 4,
 "nbformat_minor": 2
}
