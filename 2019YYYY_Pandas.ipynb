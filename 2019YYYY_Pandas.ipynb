{
 "cells": [
  {
   "cell_type": "markdown",
   "metadata": {},
   "source": [
    "## Pandas (http://pandas.pydata.org/pandas-docs/stable/)"
   ]
  },
  {
   "cell_type": "code",
   "execution_count": 120,
   "metadata": {},
   "outputs": [],
   "source": [
    "import pandas as pd\n",
    "from pandas import DataFrame\n",
    "import folium"
   ]
  },
  {
   "cell_type": "markdown",
   "metadata": {},
   "source": [
    "## Data (Location of European seismic stations)"
   ]
  },
  {
   "cell_type": "code",
   "execution_count": 121,
   "metadata": {},
   "outputs": [
    {
     "name": "stdout",
     "output_type": "stream",
     "text": [
      "Index(['Net', 'Sta', 'Lat', 'Lon', 'Elev', 'Start', 'End'], dtype='object')\n",
      "\n",
      "   Net    Sta        Lat         Lon  Elev  Start     End\n",
      "0   1A  CORRE  67.5828 S  144.2750 E     0   2009  2012.0\n",
      "1   7E   PP02  51.0432 N   12.0306 E     0   2006  2006.0\n",
      "2   CH   SDES  47.3685 N    7.3399 E   454   2016     NaN\n",
      "3   GE   FLT1  52.3306 N   11.2372 E   100   2008     NaN\n",
      "4   IB   E018  37.9803 N    5.9548 W   392   2007  2009.0\n",
      "5   IV   MGAB  42.9126 N   12.1121 E   547   2008     NaN\n",
      "6   KO   RSDY  40.3972 N   37.3273 E   550   2007     NaN\n",
      "7   NL   G583  53.1103 N    6.9071 E     2   2015     NaN\n",
      "8   RA   MVNO  22.2703 S  166.4420 E     0   2006     NaN\n",
      "9   UP   NIKU  67.8673 N   19.0347 E   300   2012  2013.0\n",
      "10  XK   LP41  67.0927 N   24.3786 E   224   2007  2009.0\n",
      "11  Y4  CSA10  39.8392 N   15.9286 E   814   2014  2015.0\n",
      "12  YV   MAYO  12.8456 S   45.1868 E    41   2011  2014.0\n",
      "13  Z4   IB30  31.2894 N   35.3562 E   -87   2006  2006.0\n",
      "14  ZC   T36G  53.1550 N   12.2590 E    80   1996  1997.0\n",
      "15  ZP   KP05  37.1928 S   72.9782 W   127   2000  2000.0\n"
     ]
    }
   ],
   "source": [
    "df = pd.read_csv('EuropeanStationBook.csv',encoding='SHIFT-JIS')\n",
    "print(df.columns)\n",
    "print()\n",
    "df = df[::500] ## データの間引き\n",
    "df.index = [ i for i in range(len(df)) ] ## indexの付け直し (元のindexは保持されない)\n",
    "print(df)"
   ]
  },
  {
   "cell_type": "markdown",
   "metadata": {},
   "source": [
    "## Delete NaN"
   ]
  },
  {
   "cell_type": "code",
   "execution_count": 122,
   "metadata": {},
   "outputs": [
    {
     "name": "stdout",
     "output_type": "stream",
     "text": [
      "   Net    Sta        Lat         Lon  Elev  Start     End\n",
      "0   1A  CORRE  67.5828 S  144.2750 E     0   2009  2012.0\n",
      "1   7E   PP02  51.0432 N   12.0306 E     0   2006  2006.0\n",
      "4   IB   E018  37.9803 N    5.9548 W   392   2007  2009.0\n",
      "9   UP   NIKU  67.8673 N   19.0347 E   300   2012  2013.0\n",
      "10  XK   LP41  67.0927 N   24.3786 E   224   2007  2009.0\n",
      "11  Y4  CSA10  39.8392 N   15.9286 E   814   2014  2015.0\n",
      "12  YV   MAYO  12.8456 S   45.1868 E    41   2011  2014.0\n",
      "13  Z4   IB30  31.2894 N   35.3562 E   -87   2006  2006.0\n",
      "14  ZC   T36G  53.1550 N   12.2590 E    80   1996  1997.0\n",
      "15  ZP   KP05  37.1928 S   72.9782 W   127   2000  2000.0\n"
     ]
    }
   ],
   "source": [
    "df = df.dropna()\n",
    "print(df)"
   ]
  },
  {
   "cell_type": "markdown",
   "metadata": {},
   "source": [
    "## Sort"
   ]
  },
  {
   "cell_type": "code",
   "execution_count": 123,
   "metadata": {},
   "outputs": [
    {
     "name": "stdout",
     "output_type": "stream",
     "text": [
      "   Net    Sta        Lat         Lon  Elev  Start     End\n",
      "0   1A  CORRE  67.5828 S  144.2750 E     0   2009  2012.0\n",
      "11  Y4  CSA10  39.8392 N   15.9286 E   814   2014  2015.0\n",
      "4   IB   E018  37.9803 N    5.9548 W   392   2007  2009.0\n",
      "13  Z4   IB30  31.2894 N   35.3562 E   -87   2006  2006.0\n",
      "15  ZP   KP05  37.1928 S   72.9782 W   127   2000  2000.0\n",
      "10  XK   LP41  67.0927 N   24.3786 E   224   2007  2009.0\n",
      "12  YV   MAYO  12.8456 S   45.1868 E    41   2011  2014.0\n",
      "9   UP   NIKU  67.8673 N   19.0347 E   300   2012  2013.0\n",
      "1   7E   PP02  51.0432 N   12.0306 E     0   2006  2006.0\n",
      "14  ZC   T36G  53.1550 N   12.2590 E    80   1996  1997.0\n"
     ]
    }
   ],
   "source": [
    "print(df.sort_values('Sta'))"
   ]
  },
  {
   "cell_type": "code",
   "execution_count": 124,
   "metadata": {},
   "outputs": [
    {
     "name": "stdout",
     "output_type": "stream",
     "text": [
      "   Net    Sta        Lat         Lon  Elev  Start     End\n",
      "12  YV   MAYO  12.8456 S   45.1868 E    41   2011  2014.0\n",
      "13  Z4   IB30  31.2894 N   35.3562 E   -87   2006  2006.0\n",
      "15  ZP   KP05  37.1928 S   72.9782 W   127   2000  2000.0\n",
      "4   IB   E018  37.9803 N    5.9548 W   392   2007  2009.0\n",
      "11  Y4  CSA10  39.8392 N   15.9286 E   814   2014  2015.0\n",
      "1   7E   PP02  51.0432 N   12.0306 E     0   2006  2006.0\n",
      "14  ZC   T36G  53.1550 N   12.2590 E    80   1996  1997.0\n",
      "10  XK   LP41  67.0927 N   24.3786 E   224   2007  2009.0\n",
      "0   1A  CORRE  67.5828 S  144.2750 E     0   2009  2012.0\n",
      "9   UP   NIKU  67.8673 N   19.0347 E   300   2012  2013.0\n"
     ]
    }
   ],
   "source": [
    "print(df.sort_values('Lat'))"
   ]
  },
  {
   "cell_type": "markdown",
   "metadata": {},
   "source": [
    "## Data access"
   ]
  },
  {
   "cell_type": "code",
   "execution_count": 125,
   "metadata": {},
   "outputs": [
    {
     "name": "stdout",
     "output_type": "stream",
     "text": [
      "0     CORRE\n",
      "1      PP02\n",
      "4      E018\n",
      "9      NIKU\n",
      "10     LP41\n",
      "11    CSA10\n",
      "12     MAYO\n",
      "13     IB30\n",
      "14     T36G\n",
      "15     KP05\n",
      "Name: Sta, dtype: object\n"
     ]
    }
   ],
   "source": [
    "print(df['Sta'])"
   ]
  },
  {
   "cell_type": "markdown",
   "metadata": {},
   "source": [
    "## Data handling"
   ]
  },
  {
   "cell_type": "code",
   "execution_count": 126,
   "metadata": {},
   "outputs": [
    {
     "name": "stdout",
     "output_type": "stream",
     "text": [
      "   index Net    Sta        Lat         Lon  Elev  Start     End\n",
      "0      0  1A  CORRE  67.5828 S  144.2750 E     0   2009  2012.0\n",
      "1      1  7E   PP02  51.0432 N   12.0306 E     0   2006  2006.0\n",
      "2      4  IB   E018  37.9803 N    5.9548 W   392   2007  2009.0\n",
      "3      9  UP   NIKU  67.8673 N   19.0347 E   300   2012  2013.0\n",
      "4     10  XK   LP41  67.0927 N   24.3786 E   224   2007  2009.0\n",
      "5     11  Y4  CSA10  39.8392 N   15.9286 E   814   2014  2015.0\n",
      "6     12  YV   MAYO  12.8456 S   45.1868 E    41   2011  2014.0\n",
      "7     13  Z4   IB30  31.2894 N   35.3562 E   -87   2006  2006.0\n",
      "8     14  ZC   T36G  53.1550 N   12.2590 E    80   1996  1997.0\n",
      "9     15  ZP   KP05  37.1928 S   72.9782 W   127   2000  2000.0\n",
      "\n",
      "   index Net    Sta      Lat       Lon  Elev  Start   End\n",
      "0      0  1A  CORRE -67.5828  144.2750     0   2009  2012\n",
      "1      1  7E   PP02  51.0432   12.0306     0   2006  2006\n",
      "2      4  IB   E018  37.9803   -5.9548   392   2007  2009\n",
      "3      9  UP   NIKU  67.8673   19.0347   300   2012  2013\n",
      "4     10  XK   LP41  67.0927   24.3786   224   2007  2009\n",
      "5     11  Y4  CSA10  39.8392   15.9286   814   2014  2015\n",
      "6     12  YV   MAYO -12.8456   45.1868    41   2011  2014\n",
      "7     13  Z4   IB30  31.2894   35.3562   -87   2006  2006\n",
      "8     14  ZC   T36G  53.1550   12.2590    80   1996  1997\n",
      "9     15  ZP   KP05 -37.1928  -72.9782   127   2000  2000\n"
     ]
    }
   ],
   "source": [
    "dfr = df.reset_index() ## indexの付け直し (元のindexは保持される)\n",
    "print(dfr)\n",
    "print()\n",
    "\n",
    "for i in range(len(dfr.index)):\n",
    "    p = dfr.iat[i,3].split()\n",
    "    dfr.iat[i,3] = p[0] if p[1] == \"N\" else \"-\"+p[0]\n",
    "\n",
    "for i in range(len(dfr.index)):\n",
    "    p = dfr.iat[i,4].split()\n",
    "    dfr.iat[i,4] = p[0] if p[1] == \"E\" else \"-\"+p[0]\n",
    "\n",
    "dfr = dfr.astype({'Lat':float,'Lon':float,'End':int})\n",
    "print(dfr)"
   ]
  },
  {
   "cell_type": "code",
   "execution_count": 130,
   "metadata": {},
   "outputs": [
    {
     "data": {
      "text/html": [
       "<div style=\"width:100%;\"><div style=\"position:relative;width:100%;height:0;padding-bottom:60%;\"><iframe src=\"data:text/html;charset=utf-8;base64,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\" style=\"position:absolute;width:100%;height:100%;left:0;top:0;border:none !important;\" allowfullscreen webkitallowfullscreen mozallowfullscreen></iframe></div></div>"
      ],
      "text/plain": [
       "<folium.folium.Map at 0x10e4cdbe0>"
      ]
     },
     "execution_count": 130,
     "metadata": {},
     "output_type": "execute_result"
    }
   ],
   "source": [
    "station_map = folium.Map(location=[0,0],zoom_start=1)\n",
    "for _,r in dfr.iterrows():\n",
    "    folium.Marker(location=[r['Lat'],r['Lon']],popup=r['Sta']).add_to(station_map)\n",
    "station_map"
   ]
  },
  {
   "cell_type": "code",
   "execution_count": null,
   "metadata": {},
   "outputs": [],
   "source": []
  }
 ],
 "metadata": {
  "kernelspec": {
   "display_name": "Python 3",
   "language": "python",
   "name": "python3"
  },
  "language_info": {
   "codemirror_mode": {
    "name": "ipython",
    "version": 3
   },
   "file_extension": ".py",
   "mimetype": "text/x-python",
   "name": "python",
   "nbconvert_exporter": "python",
   "pygments_lexer": "ipython3",
   "version": "3.7.2"
  }
 },
 "nbformat": 4,
 "nbformat_minor": 2
}
