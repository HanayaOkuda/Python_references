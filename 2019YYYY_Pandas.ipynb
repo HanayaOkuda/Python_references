{
 "cells": [
  {
   "cell_type": "markdown",
   "metadata": {},
   "source": [
    "## Pandas (http://pandas.pydata.org/pandas-docs/stable/)"
   ]
  },
  {
   "cell_type": "code",
   "execution_count": 120,
   "metadata": {},
   "outputs": [],
   "source": [
    "import pandas as pd\n",
    "from pandas import DataFrame\n",
    "import folium"
   ]
  },
  {
   "cell_type": "markdown",
   "metadata": {},
   "source": [
    "## Data (Location of European seismic stations)"
   ]
  },
  {
   "cell_type": "code",
   "execution_count": 121,
   "metadata": {},
   "outputs": [
    {
     "name": "stdout",
     "output_type": "stream",
     "text": [
      "Index(['Net', 'Sta', 'Lat', 'Lon', 'Elev', 'Start', 'End'], dtype='object')\n",
      "\n",
      "   Net    Sta        Lat         Lon  Elev  Start     End\n",
      "0   1A  CORRE  67.5828 S  144.2750 E     0   2009  2012.0\n",
      "1   7E   PP02  51.0432 N   12.0306 E     0   2006  2006.0\n",
      "2   CH   SDES  47.3685 N    7.3399 E   454   2016     NaN\n",
      "3   GE   FLT1  52.3306 N   11.2372 E   100   2008     NaN\n",
      "4   IB   E018  37.9803 N    5.9548 W   392   2007  2009.0\n",
      "5   IV   MGAB  42.9126 N   12.1121 E   547   2008     NaN\n",
      "6   KO   RSDY  40.3972 N   37.3273 E   550   2007     NaN\n",
      "7   NL   G583  53.1103 N    6.9071 E     2   2015     NaN\n",
      "8   RA   MVNO  22.2703 S  166.4420 E     0   2006     NaN\n",
      "9   UP   NIKU  67.8673 N   19.0347 E   300   2012  2013.0\n",
      "10  XK   LP41  67.0927 N   24.3786 E   224   2007  2009.0\n",
      "11  Y4  CSA10  39.8392 N   15.9286 E   814   2014  2015.0\n",
      "12  YV   MAYO  12.8456 S   45.1868 E    41   2011  2014.0\n",
      "13  Z4   IB30  31.2894 N   35.3562 E   -87   2006  2006.0\n",
      "14  ZC   T36G  53.1550 N   12.2590 E    80   1996  1997.0\n",
      "15  ZP   KP05  37.1928 S   72.9782 W   127   2000  2000.0\n"
     ]
    }
   ],
   "source": [
    "df = pd.read_csv('EuropeanStationBook.csv',encoding='SHIFT-JIS')\n",
    "print(df.columns)\n",
    "print()\n",
    "df = df[::500] ## データの間引き\n",
    "df.index = [ i for i in range(len(df)) ] ## indexの付け直し (元のindexは保持されない)\n",
    "print(df)"
   ]
  },
  {
   "cell_type": "markdown",
   "metadata": {},
   "source": [
    "## Delete NaN"
   ]
  },
  {
   "cell_type": "code",
   "execution_count": 122,
   "metadata": {},
   "outputs": [
    {
     "name": "stdout",
     "output_type": "stream",
     "text": [
      "   Net    Sta        Lat         Lon  Elev  Start     End\n",
      "0   1A  CORRE  67.5828 S  144.2750 E     0   2009  2012.0\n",
      "1   7E   PP02  51.0432 N   12.0306 E     0   2006  2006.0\n",
      "4   IB   E018  37.9803 N    5.9548 W   392   2007  2009.0\n",
      "9   UP   NIKU  67.8673 N   19.0347 E   300   2012  2013.0\n",
      "10  XK   LP41  67.0927 N   24.3786 E   224   2007  2009.0\n",
      "11  Y4  CSA10  39.8392 N   15.9286 E   814   2014  2015.0\n",
      "12  YV   MAYO  12.8456 S   45.1868 E    41   2011  2014.0\n",
      "13  Z4   IB30  31.2894 N   35.3562 E   -87   2006  2006.0\n",
      "14  ZC   T36G  53.1550 N   12.2590 E    80   1996  1997.0\n",
      "15  ZP   KP05  37.1928 S   72.9782 W   127   2000  2000.0\n"
     ]
    }
   ],
   "source": [
    "df = df.dropna()\n",
    "print(df)"
   ]
  },
  {
   "cell_type": "markdown",
   "metadata": {},
   "source": [
    "## Sort"
   ]
  },
  {
   "cell_type": "code",
   "execution_count": 123,
   "metadata": {},
   "outputs": [
    {
     "name": "stdout",
     "output_type": "stream",
     "text": [
      "   Net    Sta        Lat         Lon  Elev  Start     End\n",
      "0   1A  CORRE  67.5828 S  144.2750 E     0   2009  2012.0\n",
      "11  Y4  CSA10  39.8392 N   15.9286 E   814   2014  2015.0\n",
      "4   IB   E018  37.9803 N    5.9548 W   392   2007  2009.0\n",
      "13  Z4   IB30  31.2894 N   35.3562 E   -87   2006  2006.0\n",
      "15  ZP   KP05  37.1928 S   72.9782 W   127   2000  2000.0\n",
      "10  XK   LP41  67.0927 N   24.3786 E   224   2007  2009.0\n",
      "12  YV   MAYO  12.8456 S   45.1868 E    41   2011  2014.0\n",
      "9   UP   NIKU  67.8673 N   19.0347 E   300   2012  2013.0\n",
      "1   7E   PP02  51.0432 N   12.0306 E     0   2006  2006.0\n",
      "14  ZC   T36G  53.1550 N   12.2590 E    80   1996  1997.0\n"
     ]
    }
   ],
   "source": [
    "print(df.sort_values('Sta'))"
   ]
  },
  {
   "cell_type": "code",
   "execution_count": 124,
   "metadata": {},
   "outputs": [
    {
     "name": "stdout",
     "output_type": "stream",
     "text": [
      "   Net    Sta        Lat         Lon  Elev  Start     End\n",
      "12  YV   MAYO  12.8456 S   45.1868 E    41   2011  2014.0\n",
      "13  Z4   IB30  31.2894 N   35.3562 E   -87   2006  2006.0\n",
      "15  ZP   KP05  37.1928 S   72.9782 W   127   2000  2000.0\n",
      "4   IB   E018  37.9803 N    5.9548 W   392   2007  2009.0\n",
      "11  Y4  CSA10  39.8392 N   15.9286 E   814   2014  2015.0\n",
      "1   7E   PP02  51.0432 N   12.0306 E     0   2006  2006.0\n",
      "14  ZC   T36G  53.1550 N   12.2590 E    80   1996  1997.0\n",
      "10  XK   LP41  67.0927 N   24.3786 E   224   2007  2009.0\n",
      "0   1A  CORRE  67.5828 S  144.2750 E     0   2009  2012.0\n",
      "9   UP   NIKU  67.8673 N   19.0347 E   300   2012  2013.0\n"
     ]
    }
   ],
   "source": [
    "print(df.sort_values('Lat'))"
   ]
  },
  {
   "cell_type": "markdown",
   "metadata": {},
   "source": [
    "## Data access"
   ]
  },
  {
   "cell_type": "code",
   "execution_count": 125,
   "metadata": {},
   "outputs": [
    {
     "name": "stdout",
     "output_type": "stream",
     "text": [
      "0     CORRE\n",
      "1      PP02\n",
      "4      E018\n",
      "9      NIKU\n",
      "10     LP41\n",
      "11    CSA10\n",
      "12     MAYO\n",
      "13     IB30\n",
      "14     T36G\n",
      "15     KP05\n",
      "Name: Sta, dtype: object\n"
     ]
    }
   ],
   "source": [
    "print(df['Sta'])"
   ]
  },
  {
   "cell_type": "markdown",
   "metadata": {},
   "source": [
    "## Data handling"
   ]
  },
  {
   "cell_type": "code",
   "execution_count": 126,
   "metadata": {},
   "outputs": [
    {
     "name": "stdout",
     "output_type": "stream",
     "text": [
      "   index Net    Sta        Lat         Lon  Elev  Start     End\n",
      "0      0  1A  CORRE  67.5828 S  144.2750 E     0   2009  2012.0\n",
      "1      1  7E   PP02  51.0432 N   12.0306 E     0   2006  2006.0\n",
      "2      4  IB   E018  37.9803 N    5.9548 W   392   2007  2009.0\n",
      "3      9  UP   NIKU  67.8673 N   19.0347 E   300   2012  2013.0\n",
      "4     10  XK   LP41  67.0927 N   24.3786 E   224   2007  2009.0\n",
      "5     11  Y4  CSA10  39.8392 N   15.9286 E   814   2014  2015.0\n",
      "6     12  YV   MAYO  12.8456 S   45.1868 E    41   2011  2014.0\n",
      "7     13  Z4   IB30  31.2894 N   35.3562 E   -87   2006  2006.0\n",
      "8     14  ZC   T36G  53.1550 N   12.2590 E    80   1996  1997.0\n",
      "9     15  ZP   KP05  37.1928 S   72.9782 W   127   2000  2000.0\n",
      "\n",
      "   index Net    Sta      Lat       Lon  Elev  Start   End\n",
      "0      0  1A  CORRE -67.5828  144.2750     0   2009  2012\n",
      "1      1  7E   PP02  51.0432   12.0306     0   2006  2006\n",
      "2      4  IB   E018  37.9803   -5.9548   392   2007  2009\n",
      "3      9  UP   NIKU  67.8673   19.0347   300   2012  2013\n",
      "4     10  XK   LP41  67.0927   24.3786   224   2007  2009\n",
      "5     11  Y4  CSA10  39.8392   15.9286   814   2014  2015\n",
      "6     12  YV   MAYO -12.8456   45.1868    41   2011  2014\n",
      "7     13  Z4   IB30  31.2894   35.3562   -87   2006  2006\n",
      "8     14  ZC   T36G  53.1550   12.2590    80   1996  1997\n",
      "9     15  ZP   KP05 -37.1928  -72.9782   127   2000  2000\n"
     ]
    }
   ],
   "source": [
    "dfr = df.reset_index() ## indexの付け直し (元のindexは保持される)\n",
    "print(dfr)\n",
    "print()\n",
    "\n",
    "for i in range(len(dfr.index)):\n",
    "    p = dfr.iat[i,3].split()\n",
    "    dfr.iat[i,3] = p[0] if p[1] == \"N\" else \"-\"+p[0]\n",
    "\n",
    "for i in range(len(dfr.index)):\n",
    "    p = dfr.iat[i,4].split()\n",
    "    dfr.iat[i,4] = p[0] if p[1] == \"E\" else \"-\"+p[0]\n",
    "\n",
    "dfr = dfr.astype({'Lat':float,'Lon':float,'End':int})\n",
    "print(dfr)"
   ]
  },
  {
   "cell_type": "code",
   "execution_count": 141,
   "metadata": {},
   "outputs": [
    {
     "data": {
      "text/html": [
       "<div style=\"width:100%;\"><div style=\"position:relative;width:100%;height:0;padding-bottom:60%;\"><iframe src=\"data:text/html;charset=utf-8;base64,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\" style=\"position:absolute;width:100%;height:100%;left:0;top:0;border:none !important;\" allowfullscreen webkitallowfullscreen mozallowfullscreen></iframe></div></div>"
      ],
      "text/plain": [
       "<folium.folium.Map at 0x10e4738d0>"
      ]
     },
     "metadata": {},
     "output_type": "display_data"
    }
   ],
   "source": [
    "station_map = folium.Map(location=[0,0],zoom_start=1)\n",
    "for _,r in dfr.iterrows():\n",
    "    folium.Marker(location=[r['Lat'],r['Lon']],popup=r['Sta']).add_to(station_map)\n",
    "display(station_map)"
   ]
  },
  {
   "cell_type": "code",
   "execution_count": null,
   "metadata": {},
   "outputs": [],
   "source": []
  }
 ],
 "metadata": {
  "kernelspec": {
   "display_name": "Python 3",
   "language": "python",
   "name": "python3"
  },
  "language_info": {
   "codemirror_mode": {
    "name": "ipython",
    "version": 3
   },
   "file_extension": ".py",
   "mimetype": "text/x-python",
   "name": "python",
   "nbconvert_exporter": "python",
   "pygments_lexer": "ipython3",
   "version": "3.7.2"
  }
 },
 "nbformat": 4,
 "nbformat_minor": 2
}
