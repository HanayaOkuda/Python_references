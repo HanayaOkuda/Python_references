{
 "cells": [
  {
   "cell_type": "markdown",
   "metadata": {},
   "source": [
    "## Pandas (http://pandas.pydata.org/pandas-docs/stable/)"
   ]
  },
  {
   "cell_type": "code",
   "execution_count": 120,
   "metadata": {},
   "outputs": [],
   "source": [
    "import pandas as pd\n",
    "from pandas import DataFrame\n",
    "import folium"
   ]
  },
  {
   "cell_type": "markdown",
   "metadata": {},
   "source": [
    "## Data (Location of European seismic stations)"
   ]
  },
  {
   "cell_type": "code",
   "execution_count": 121,
   "metadata": {},
   "outputs": [
    {
     "name": "stdout",
     "output_type": "stream",
     "text": [
      "Index(['Net', 'Sta', 'Lat', 'Lon', 'Elev', 'Start', 'End'], dtype='object')\n",
      "\n",
      "   Net    Sta        Lat         Lon  Elev  Start     End\n",
      "0   1A  CORRE  67.5828 S  144.2750 E     0   2009  2012.0\n",
      "1   7E   PP02  51.0432 N   12.0306 E     0   2006  2006.0\n",
      "2   CH   SDES  47.3685 N    7.3399 E   454   2016     NaN\n",
      "3   GE   FLT1  52.3306 N   11.2372 E   100   2008     NaN\n",
      "4   IB   E018  37.9803 N    5.9548 W   392   2007  2009.0\n",
      "5   IV   MGAB  42.9126 N   12.1121 E   547   2008     NaN\n",
      "6   KO   RSDY  40.3972 N   37.3273 E   550   2007     NaN\n",
      "7   NL   G583  53.1103 N    6.9071 E     2   2015     NaN\n",
      "8   RA   MVNO  22.2703 S  166.4420 E     0   2006     NaN\n",
      "9   UP   NIKU  67.8673 N   19.0347 E   300   2012  2013.0\n",
      "10  XK   LP41  67.0927 N   24.3786 E   224   2007  2009.0\n",
      "11  Y4  CSA10  39.8392 N   15.9286 E   814   2014  2015.0\n",
      "12  YV   MAYO  12.8456 S   45.1868 E    41   2011  2014.0\n",
      "13  Z4   IB30  31.2894 N   35.3562 E   -87   2006  2006.0\n",
      "14  ZC   T36G  53.1550 N   12.2590 E    80   1996  1997.0\n",
      "15  ZP   KP05  37.1928 S   72.9782 W   127   2000  2000.0\n"
     ]
    }
   ],
   "source": [
    "df = pd.read_csv('EuropeanStationBook.csv',encoding='SHIFT-JIS')\n",
    "print(df.columns)\n",
    "print()\n",
    "df = df[::500] ## データの間引き\n",
    "df.index = [ i for i in range(len(df)) ] ## indexの付け直し (元のindexは保持されない)\n",
    "print(df)"
   ]
  },
  {
   "cell_type": "markdown",
   "metadata": {},
   "source": [
    "## Delete NaN"
   ]
  },
  {
   "cell_type": "code",
   "execution_count": 122,
   "metadata": {},
   "outputs": [
    {
     "name": "stdout",
     "output_type": "stream",
     "text": [
      "   Net    Sta        Lat         Lon  Elev  Start     End\n",
      "0   1A  CORRE  67.5828 S  144.2750 E     0   2009  2012.0\n",
      "1   7E   PP02  51.0432 N   12.0306 E     0   2006  2006.0\n",
      "4   IB   E018  37.9803 N    5.9548 W   392   2007  2009.0\n",
      "9   UP   NIKU  67.8673 N   19.0347 E   300   2012  2013.0\n",
      "10  XK   LP41  67.0927 N   24.3786 E   224   2007  2009.0\n",
      "11  Y4  CSA10  39.8392 N   15.9286 E   814   2014  2015.0\n",
      "12  YV   MAYO  12.8456 S   45.1868 E    41   2011  2014.0\n",
      "13  Z4   IB30  31.2894 N   35.3562 E   -87   2006  2006.0\n",
      "14  ZC   T36G  53.1550 N   12.2590 E    80   1996  1997.0\n",
      "15  ZP   KP05  37.1928 S   72.9782 W   127   2000  2000.0\n"
     ]
    }
   ],
   "source": [
    "df = df.dropna()\n",
    "print(df)"
   ]
  },
  {
   "cell_type": "markdown",
   "metadata": {},
   "source": [
    "## Sort"
   ]
  },
  {
   "cell_type": "code",
   "execution_count": 123,
   "metadata": {},
   "outputs": [
    {
     "name": "stdout",
     "output_type": "stream",
     "text": [
      "   Net    Sta        Lat         Lon  Elev  Start     End\n",
      "0   1A  CORRE  67.5828 S  144.2750 E     0   2009  2012.0\n",
      "11  Y4  CSA10  39.8392 N   15.9286 E   814   2014  2015.0\n",
      "4   IB   E018  37.9803 N    5.9548 W   392   2007  2009.0\n",
      "13  Z4   IB30  31.2894 N   35.3562 E   -87   2006  2006.0\n",
      "15  ZP   KP05  37.1928 S   72.9782 W   127   2000  2000.0\n",
      "10  XK   LP41  67.0927 N   24.3786 E   224   2007  2009.0\n",
      "12  YV   MAYO  12.8456 S   45.1868 E    41   2011  2014.0\n",
      "9   UP   NIKU  67.8673 N   19.0347 E   300   2012  2013.0\n",
      "1   7E   PP02  51.0432 N   12.0306 E     0   2006  2006.0\n",
      "14  ZC   T36G  53.1550 N   12.2590 E    80   1996  1997.0\n"
     ]
    }
   ],
   "source": [
    "print(df.sort_values('Sta'))"
   ]
  },
  {
   "cell_type": "code",
   "execution_count": 124,
   "metadata": {},
   "outputs": [
    {
     "name": "stdout",
     "output_type": "stream",
     "text": [
      "   Net    Sta        Lat         Lon  Elev  Start     End\n",
      "12  YV   MAYO  12.8456 S   45.1868 E    41   2011  2014.0\n",
      "13  Z4   IB30  31.2894 N   35.3562 E   -87   2006  2006.0\n",
      "15  ZP   KP05  37.1928 S   72.9782 W   127   2000  2000.0\n",
      "4   IB   E018  37.9803 N    5.9548 W   392   2007  2009.0\n",
      "11  Y4  CSA10  39.8392 N   15.9286 E   814   2014  2015.0\n",
      "1   7E   PP02  51.0432 N   12.0306 E     0   2006  2006.0\n",
      "14  ZC   T36G  53.1550 N   12.2590 E    80   1996  1997.0\n",
      "10  XK   LP41  67.0927 N   24.3786 E   224   2007  2009.0\n",
      "0   1A  CORRE  67.5828 S  144.2750 E     0   2009  2012.0\n",
      "9   UP   NIKU  67.8673 N   19.0347 E   300   2012  2013.0\n"
     ]
    }
   ],
   "source": [
    "print(df.sort_values('Lat'))"
   ]
  },
  {
   "cell_type": "markdown",
   "metadata": {},
   "source": [
    "## Data access"
   ]
  },
  {
   "cell_type": "code",
   "execution_count": 125,
   "metadata": {},
   "outputs": [
    {
     "name": "stdout",
     "output_type": "stream",
     "text": [
      "0     CORRE\n",
      "1      PP02\n",
      "4      E018\n",
      "9      NIKU\n",
      "10     LP41\n",
      "11    CSA10\n",
      "12     MAYO\n",
      "13     IB30\n",
      "14     T36G\n",
      "15     KP05\n",
      "Name: Sta, dtype: object\n"
     ]
    }
   ],
   "source": [
    "print(df['Sta'])"
   ]
  },
  {
   "cell_type": "markdown",
   "metadata": {},
   "source": [
    "## Data handling"
   ]
  },
  {
   "cell_type": "code",
   "execution_count": 126,
   "metadata": {},
   "outputs": [
    {
     "name": "stdout",
     "output_type": "stream",
     "text": [
      "   index Net    Sta        Lat         Lon  Elev  Start     End\n",
      "0      0  1A  CORRE  67.5828 S  144.2750 E     0   2009  2012.0\n",
      "1      1  7E   PP02  51.0432 N   12.0306 E     0   2006  2006.0\n",
      "2      4  IB   E018  37.9803 N    5.9548 W   392   2007  2009.0\n",
      "3      9  UP   NIKU  67.8673 N   19.0347 E   300   2012  2013.0\n",
      "4     10  XK   LP41  67.0927 N   24.3786 E   224   2007  2009.0\n",
      "5     11  Y4  CSA10  39.8392 N   15.9286 E   814   2014  2015.0\n",
      "6     12  YV   MAYO  12.8456 S   45.1868 E    41   2011  2014.0\n",
      "7     13  Z4   IB30  31.2894 N   35.3562 E   -87   2006  2006.0\n",
      "8     14  ZC   T36G  53.1550 N   12.2590 E    80   1996  1997.0\n",
      "9     15  ZP   KP05  37.1928 S   72.9782 W   127   2000  2000.0\n",
      "\n",
      "   index Net    Sta      Lat       Lon  Elev  Start   End\n",
      "0      0  1A  CORRE -67.5828  144.2750     0   2009  2012\n",
      "1      1  7E   PP02  51.0432   12.0306     0   2006  2006\n",
      "2      4  IB   E018  37.9803   -5.9548   392   2007  2009\n",
      "3      9  UP   NIKU  67.8673   19.0347   300   2012  2013\n",
      "4     10  XK   LP41  67.0927   24.3786   224   2007  2009\n",
      "5     11  Y4  CSA10  39.8392   15.9286   814   2014  2015\n",
      "6     12  YV   MAYO -12.8456   45.1868    41   2011  2014\n",
      "7     13  Z4   IB30  31.2894   35.3562   -87   2006  2006\n",
      "8     14  ZC   T36G  53.1550   12.2590    80   1996  1997\n",
      "9     15  ZP   KP05 -37.1928  -72.9782   127   2000  2000\n"
     ]
    }
   ],
   "source": [
    "dfr = df.reset_index() ## indexの付け直し (元のindexは保持される)\n",
    "print(dfr)\n",
    "print()\n",
    "\n",
    "for i in range(len(dfr.index)):\n",
    "    p = dfr.iat[i,3].split()\n",
    "    dfr.iat[i,3] = p[0] if p[1] == \"N\" else \"-\"+p[0]\n",
    "\n",
    "for i in range(len(dfr.index)):\n",
    "    p = dfr.iat[i,4].split()\n",
    "    dfr.iat[i,4] = p[0] if p[1] == \"E\" else \"-\"+p[0]\n",
    "\n",
    "dfr = dfr.astype({'Lat':float,'Lon':float,'End':int})\n",
    "print(dfr)"
   ]
  },
  {
   "cell_type": "code",
   "execution_count": 134,
   "metadata": {},
   "outputs": [
    {
     "data": {
      "text/html": [
       "<div style=\"width:100%;\"><div style=\"position:relative;width:100%;height:0;padding-bottom:60%;\"><iframe src=\"data:text/html;charset=utf-8;base64,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\" style=\"position:absolute;width:100%;height:100%;left:0;top:0;border:none !important;\" allowfullscreen webkitallowfullscreen mozallowfullscreen></iframe></div></div>"
      ],
      "text/plain": [
       "<folium.folium.Map at 0x10dd13860>"
      ]
     },
     "execution_count": 134,
     "metadata": {},
     "output_type": "execute_result"
    }
   ],
   "source": [
    "station_map = folium.Map(location=[0,0],zoom_start=1)\n",
    "for _,r in dfr.iterrows():\n",
    "    folium.Marker(location=[r['Lat'],r['Lon']],popup=r['Sta']).add_to(station_map)\n",
    "station_map"
   ]
  },
  {
   "cell_type": "code",
   "execution_count": null,
   "metadata": {},
   "outputs": [],
   "source": []
  }
 ],
 "metadata": {
  "kernelspec": {
   "display_name": "Python 3",
   "language": "python",
   "name": "python3"
  },
  "language_info": {
   "codemirror_mode": {
    "name": "ipython",
    "version": 3
   },
   "file_extension": ".py",
   "mimetype": "text/x-python",
   "name": "python",
   "nbconvert_exporter": "python",
   "pygments_lexer": "ipython3",
   "version": "3.7.2"
  }
 },
 "nbformat": 4,
 "nbformat_minor": 2
}
