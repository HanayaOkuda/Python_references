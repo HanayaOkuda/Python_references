{
 "cells": [
  {
   "cell_type": "markdown",
   "metadata": {},
   "source": [
    "## Pandas (http://pandas.pydata.org/pandas-docs/stable/)"
   ]
  },
  {
   "cell_type": "code",
   "execution_count": 86,
   "metadata": {},
   "outputs": [],
   "source": [
    "import pandas as pd\n",
    "from pandas import DataFrame\n",
    "import sys"
   ]
  },
  {
   "cell_type": "markdown",
   "metadata": {},
   "source": [
    "## Data (Location of European seismic stations)"
   ]
  },
  {
   "cell_type": "code",
   "execution_count": 87,
   "metadata": {},
   "outputs": [
    {
     "name": "stdout",
     "output_type": "stream",
     "text": [
      "Index(['Net', 'Sta', 'Lat', 'Lon', 'Elev', 'Start', 'End'], dtype='object')\n",
      "\n",
      "   Net    Sta        Lat         Lon  Elev  Start     End\n",
      "0   1A  CORRE  67.5828 S  144.2750 E     0   2009  2012.0\n",
      "1   7E   PP02  51.0432 N   12.0306 E     0   2006  2006.0\n",
      "2   CH   SDES  47.3685 N    7.3399 E   454   2016     NaN\n",
      "3   GE   FLT1  52.3306 N   11.2372 E   100   2008     NaN\n",
      "4   IB   E018  37.9803 N    5.9548 W   392   2007  2009.0\n",
      "5   IV   MGAB  42.9126 N   12.1121 E   547   2008     NaN\n",
      "6   KO   RSDY  40.3972 N   37.3273 E   550   2007     NaN\n",
      "7   NL   G583  53.1103 N    6.9071 E     2   2015     NaN\n",
      "8   RA   MVNO  22.2703 S  166.4420 E     0   2006     NaN\n",
      "9   UP   NIKU  67.8673 N   19.0347 E   300   2012  2013.0\n",
      "10  XK   LP41  67.0927 N   24.3786 E   224   2007  2009.0\n",
      "11  Y4  CSA10  39.8392 N   15.9286 E   814   2014  2015.0\n",
      "12  YV   MAYO  12.8456 S   45.1868 E    41   2011  2014.0\n",
      "13  Z4   IB30  31.2894 N   35.3562 E   -87   2006  2006.0\n",
      "14  ZC   T36G  53.1550 N   12.2590 E    80   1996  1997.0\n",
      "15  ZP   KP05  37.1928 S   72.9782 W   127   2000  2000.0\n"
     ]
    }
   ],
   "source": [
    "df = pd.read_csv('EuropeanStationBook.csv',encoding='SHIFT-JIS')\n",
    "print(df.columns)\n",
    "print()\n",
    "df = df[::500] ## データの間引き\n",
    "df.index = [ i for i in range(len(df)) ] ## indexの付け直し (元のindexは保持されない)\n",
    "print(df)"
   ]
  },
  {
   "cell_type": "markdown",
   "metadata": {},
   "source": [
    "## Delete NaN"
   ]
  },
  {
   "cell_type": "code",
   "execution_count": 88,
   "metadata": {},
   "outputs": [
    {
     "name": "stdout",
     "output_type": "stream",
     "text": [
      "   Net    Sta        Lat         Lon  Elev  Start     End\n",
      "0   1A  CORRE  67.5828 S  144.2750 E     0   2009  2012.0\n",
      "1   7E   PP02  51.0432 N   12.0306 E     0   2006  2006.0\n",
      "4   IB   E018  37.9803 N    5.9548 W   392   2007  2009.0\n",
      "9   UP   NIKU  67.8673 N   19.0347 E   300   2012  2013.0\n",
      "10  XK   LP41  67.0927 N   24.3786 E   224   2007  2009.0\n",
      "11  Y4  CSA10  39.8392 N   15.9286 E   814   2014  2015.0\n",
      "12  YV   MAYO  12.8456 S   45.1868 E    41   2011  2014.0\n",
      "13  Z4   IB30  31.2894 N   35.3562 E   -87   2006  2006.0\n",
      "14  ZC   T36G  53.1550 N   12.2590 E    80   1996  1997.0\n",
      "15  ZP   KP05  37.1928 S   72.9782 W   127   2000  2000.0\n"
     ]
    }
   ],
   "source": [
    "df = df.dropna()\n",
    "print(df)"
   ]
  },
  {
   "cell_type": "markdown",
   "metadata": {},
   "source": [
    "## Sort"
   ]
  },
  {
   "cell_type": "code",
   "execution_count": 89,
   "metadata": {},
   "outputs": [
    {
     "name": "stdout",
     "output_type": "stream",
     "text": [
      "   Net    Sta        Lat         Lon  Elev  Start     End\n",
      "0   1A  CORRE  67.5828 S  144.2750 E     0   2009  2012.0\n",
      "11  Y4  CSA10  39.8392 N   15.9286 E   814   2014  2015.0\n",
      "4   IB   E018  37.9803 N    5.9548 W   392   2007  2009.0\n",
      "13  Z4   IB30  31.2894 N   35.3562 E   -87   2006  2006.0\n",
      "15  ZP   KP05  37.1928 S   72.9782 W   127   2000  2000.0\n",
      "10  XK   LP41  67.0927 N   24.3786 E   224   2007  2009.0\n",
      "12  YV   MAYO  12.8456 S   45.1868 E    41   2011  2014.0\n",
      "9   UP   NIKU  67.8673 N   19.0347 E   300   2012  2013.0\n",
      "1   7E   PP02  51.0432 N   12.0306 E     0   2006  2006.0\n",
      "14  ZC   T36G  53.1550 N   12.2590 E    80   1996  1997.0\n"
     ]
    }
   ],
   "source": [
    "print(df.sort_values('Sta'))"
   ]
  },
  {
   "cell_type": "code",
   "execution_count": 90,
   "metadata": {},
   "outputs": [
    {
     "name": "stdout",
     "output_type": "stream",
     "text": [
      "   Net    Sta        Lat         Lon  Elev  Start     End\n",
      "12  YV   MAYO  12.8456 S   45.1868 E    41   2011  2014.0\n",
      "13  Z4   IB30  31.2894 N   35.3562 E   -87   2006  2006.0\n",
      "15  ZP   KP05  37.1928 S   72.9782 W   127   2000  2000.0\n",
      "4   IB   E018  37.9803 N    5.9548 W   392   2007  2009.0\n",
      "11  Y4  CSA10  39.8392 N   15.9286 E   814   2014  2015.0\n",
      "1   7E   PP02  51.0432 N   12.0306 E     0   2006  2006.0\n",
      "14  ZC   T36G  53.1550 N   12.2590 E    80   1996  1997.0\n",
      "10  XK   LP41  67.0927 N   24.3786 E   224   2007  2009.0\n",
      "0   1A  CORRE  67.5828 S  144.2750 E     0   2009  2012.0\n",
      "9   UP   NIKU  67.8673 N   19.0347 E   300   2012  2013.0\n"
     ]
    }
   ],
   "source": [
    "print(df.sort_values('Lat'))"
   ]
  },
  {
   "cell_type": "markdown",
   "metadata": {},
   "source": [
    "## Data access"
   ]
  },
  {
   "cell_type": "code",
   "execution_count": 91,
   "metadata": {},
   "outputs": [
    {
     "name": "stdout",
     "output_type": "stream",
     "text": [
      "0     CORRE\n",
      "1      PP02\n",
      "4      E018\n",
      "9      NIKU\n",
      "10     LP41\n",
      "11    CSA10\n",
      "12     MAYO\n",
      "13     IB30\n",
      "14     T36G\n",
      "15     KP05\n",
      "Name: Sta, dtype: object\n"
     ]
    }
   ],
   "source": [
    "print(df['Sta'])"
   ]
  },
  {
   "cell_type": "markdown",
   "metadata": {},
   "source": [
    "## Data handling"
   ]
  },
  {
   "cell_type": "code",
   "execution_count": 93,
   "metadata": {},
   "outputs": [
    {
     "name": "stdout",
     "output_type": "stream",
     "text": [
      "   index Net    Sta        Lat         Lon  Elev  Start     End\n",
      "0      0  1A  CORRE  67.5828 S  144.2750 E     0   2009  2012.0\n",
      "1      1  7E   PP02  51.0432 N   12.0306 E     0   2006  2006.0\n",
      "2      4  IB   E018  37.9803 N    5.9548 W   392   2007  2009.0\n",
      "3      9  UP   NIKU  67.8673 N   19.0347 E   300   2012  2013.0\n",
      "4     10  XK   LP41  67.0927 N   24.3786 E   224   2007  2009.0\n",
      "5     11  Y4  CSA10  39.8392 N   15.9286 E   814   2014  2015.0\n",
      "6     12  YV   MAYO  12.8456 S   45.1868 E    41   2011  2014.0\n",
      "7     13  Z4   IB30  31.2894 N   35.3562 E   -87   2006  2006.0\n",
      "8     14  ZC   T36G  53.1550 N   12.2590 E    80   1996  1997.0\n",
      "9     15  ZP   KP05  37.1928 S   72.9782 W   127   2000  2000.0\n"
     ]
    },
    {
     "name": "stderr",
     "output_type": "stream",
     "text": [
      "/Users/ue/.pyenv/versions/3.7.2/lib/python3.7/site-packages/ipykernel_launcher.py:7: SettingWithCopyWarning: \n",
      "A value is trying to be set on a copy of a slice from a DataFrame\n",
      "\n",
      "See the caveats in the documentation: http://pandas.pydata.org/pandas-docs/stable/indexing.html#indexing-view-versus-copy\n",
      "  import sys\n"
     ]
    },
    {
     "name": "stdout",
     "output_type": "stream",
     "text": [
      "0    -67.5828\n",
      "1     51.0432\n",
      "2     37.9803\n",
      "3     67.8673\n",
      "4     67.0927\n",
      "5     39.8392\n",
      "6    -12.8456\n",
      "7     31.2894\n",
      "8     53.1550\n",
      "9    -37.1928\n",
      "Name: Lat, dtype: object\n"
     ]
    }
   ],
   "source": [
    "dfr = df.reset_index() ## indexの付け直し (元のindexは保持される)\n",
    "print(dfr)\n",
    "for name,item in dfr.iteritems():\n",
    "    if name == 'Lat':\n",
    "        for i in range(len(item)):\n",
    "            p = item[i].split()\n",
    "            dfr.loc(['Lat'][i]) = p[0] if p[1] == 'N' else '-'+p[0]\n",
    "        print(item)"
   ]
  },
  {
   "cell_type": "code",
   "execution_count": null,
   "metadata": {},
   "outputs": [],
   "source": []
  }
 ],
 "metadata": {
  "kernelspec": {
   "display_name": "Python 3",
   "language": "python",
   "name": "python3"
  },
  "language_info": {
   "codemirror_mode": {
    "name": "ipython",
    "version": 3
   },
   "file_extension": ".py",
   "mimetype": "text/x-python",
   "name": "python",
   "nbconvert_exporter": "python",
   "pygments_lexer": "ipython3",
   "version": "3.7.2"
  }
 },
 "nbformat": 4,
 "nbformat_minor": 2
}
