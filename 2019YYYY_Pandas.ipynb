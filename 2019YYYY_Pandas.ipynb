{
 "cells": [
  {
   "cell_type": "markdown",
   "metadata": {},
   "source": [
    "## Pandas (http://pandas.pydata.org/pandas-docs/stable/)"
   ]
  },
  {
   "cell_type": "code",
   "execution_count": 142,
   "metadata": {},
   "outputs": [],
   "source": [
    "import pandas as pd\n",
    "from pandas import DataFrame\n",
    "import folium"
   ]
  },
  {
   "cell_type": "markdown",
   "metadata": {},
   "source": [
    "## Data (Location of European seismic stations)"
   ]
  },
  {
   "cell_type": "code",
   "execution_count": 143,
   "metadata": {},
   "outputs": [
    {
     "name": "stdout",
     "output_type": "stream",
     "text": [
      "Index(['Net', 'Sta', 'Lat', 'Lon', 'Elev', 'Start', 'End'], dtype='object')\n",
      "\n",
      "   Net    Sta        Lat         Lon  Elev  Start     End\n",
      "0   1A  CORRE  67.5828 S  144.2750 E     0   2009  2012.0\n",
      "1   7E   PP02  51.0432 N   12.0306 E     0   2006  2006.0\n",
      "2   CH   SDES  47.3685 N    7.3399 E   454   2016     NaN\n",
      "3   GE   FLT1  52.3306 N   11.2372 E   100   2008     NaN\n",
      "4   IB   E018  37.9803 N    5.9548 W   392   2007  2009.0\n",
      "5   IV   MGAB  42.9126 N   12.1121 E   547   2008     NaN\n",
      "6   KO   RSDY  40.3972 N   37.3273 E   550   2007     NaN\n",
      "7   NL   G583  53.1103 N    6.9071 E     2   2015     NaN\n",
      "8   RA   MVNO  22.2703 S  166.4420 E     0   2006     NaN\n",
      "9   UP   NIKU  67.8673 N   19.0347 E   300   2012  2013.0\n",
      "10  XK   LP41  67.0927 N   24.3786 E   224   2007  2009.0\n",
      "11  Y4  CSA10  39.8392 N   15.9286 E   814   2014  2015.0\n",
      "12  YV   MAYO  12.8456 S   45.1868 E    41   2011  2014.0\n",
      "13  Z4   IB30  31.2894 N   35.3562 E   -87   2006  2006.0\n",
      "14  ZC   T36G  53.1550 N   12.2590 E    80   1996  1997.0\n",
      "15  ZP   KP05  37.1928 S   72.9782 W   127   2000  2000.0\n"
     ]
    }
   ],
   "source": [
    "df = pd.read_csv('EuropeanStationBook.csv',encoding='SHIFT-JIS')\n",
    "print(df.columns)\n",
    "print()\n",
    "df = df[::500] ## データの間引き\n",
    "df.index = [ i for i in range(len(df)) ] ## indexの付け直し (元のindexは保持されない)\n",
    "print(df)"
   ]
  },
  {
   "cell_type": "markdown",
   "metadata": {},
   "source": [
    "## Delete NaN"
   ]
  },
  {
   "cell_type": "code",
   "execution_count": 144,
   "metadata": {},
   "outputs": [
    {
     "name": "stdout",
     "output_type": "stream",
     "text": [
      "   Net    Sta        Lat         Lon  Elev  Start     End\n",
      "0   1A  CORRE  67.5828 S  144.2750 E     0   2009  2012.0\n",
      "1   7E   PP02  51.0432 N   12.0306 E     0   2006  2006.0\n",
      "4   IB   E018  37.9803 N    5.9548 W   392   2007  2009.0\n",
      "9   UP   NIKU  67.8673 N   19.0347 E   300   2012  2013.0\n",
      "10  XK   LP41  67.0927 N   24.3786 E   224   2007  2009.0\n",
      "11  Y4  CSA10  39.8392 N   15.9286 E   814   2014  2015.0\n",
      "12  YV   MAYO  12.8456 S   45.1868 E    41   2011  2014.0\n",
      "13  Z4   IB30  31.2894 N   35.3562 E   -87   2006  2006.0\n",
      "14  ZC   T36G  53.1550 N   12.2590 E    80   1996  1997.0\n",
      "15  ZP   KP05  37.1928 S   72.9782 W   127   2000  2000.0\n"
     ]
    }
   ],
   "source": [
    "df = df.dropna()\n",
    "print(df)"
   ]
  },
  {
   "cell_type": "markdown",
   "metadata": {},
   "source": [
    "## Sort"
   ]
  },
  {
   "cell_type": "code",
   "execution_count": 145,
   "metadata": {},
   "outputs": [
    {
     "name": "stdout",
     "output_type": "stream",
     "text": [
      "   Net    Sta        Lat         Lon  Elev  Start     End\n",
      "0   1A  CORRE  67.5828 S  144.2750 E     0   2009  2012.0\n",
      "11  Y4  CSA10  39.8392 N   15.9286 E   814   2014  2015.0\n",
      "4   IB   E018  37.9803 N    5.9548 W   392   2007  2009.0\n",
      "13  Z4   IB30  31.2894 N   35.3562 E   -87   2006  2006.0\n",
      "15  ZP   KP05  37.1928 S   72.9782 W   127   2000  2000.0\n",
      "10  XK   LP41  67.0927 N   24.3786 E   224   2007  2009.0\n",
      "12  YV   MAYO  12.8456 S   45.1868 E    41   2011  2014.0\n",
      "9   UP   NIKU  67.8673 N   19.0347 E   300   2012  2013.0\n",
      "1   7E   PP02  51.0432 N   12.0306 E     0   2006  2006.0\n",
      "14  ZC   T36G  53.1550 N   12.2590 E    80   1996  1997.0\n"
     ]
    }
   ],
   "source": [
    "print(df.sort_values('Sta'))"
   ]
  },
  {
   "cell_type": "code",
   "execution_count": 146,
   "metadata": {},
   "outputs": [
    {
     "name": "stdout",
     "output_type": "stream",
     "text": [
      "   Net    Sta        Lat         Lon  Elev  Start     End\n",
      "12  YV   MAYO  12.8456 S   45.1868 E    41   2011  2014.0\n",
      "13  Z4   IB30  31.2894 N   35.3562 E   -87   2006  2006.0\n",
      "15  ZP   KP05  37.1928 S   72.9782 W   127   2000  2000.0\n",
      "4   IB   E018  37.9803 N    5.9548 W   392   2007  2009.0\n",
      "11  Y4  CSA10  39.8392 N   15.9286 E   814   2014  2015.0\n",
      "1   7E   PP02  51.0432 N   12.0306 E     0   2006  2006.0\n",
      "14  ZC   T36G  53.1550 N   12.2590 E    80   1996  1997.0\n",
      "10  XK   LP41  67.0927 N   24.3786 E   224   2007  2009.0\n",
      "0   1A  CORRE  67.5828 S  144.2750 E     0   2009  2012.0\n",
      "9   UP   NIKU  67.8673 N   19.0347 E   300   2012  2013.0\n"
     ]
    }
   ],
   "source": [
    "print(df.sort_values('Lat'))"
   ]
  },
  {
   "cell_type": "markdown",
   "metadata": {},
   "source": [
    "## Data access"
   ]
  },
  {
   "cell_type": "code",
   "execution_count": 147,
   "metadata": {},
   "outputs": [
    {
     "name": "stdout",
     "output_type": "stream",
     "text": [
      "0     CORRE\n",
      "1      PP02\n",
      "4      E018\n",
      "9      NIKU\n",
      "10     LP41\n",
      "11    CSA10\n",
      "12     MAYO\n",
      "13     IB30\n",
      "14     T36G\n",
      "15     KP05\n",
      "Name: Sta, dtype: object\n"
     ]
    }
   ],
   "source": [
    "print(df['Sta'])"
   ]
  },
  {
   "cell_type": "markdown",
   "metadata": {},
   "source": [
    "## Data handling"
   ]
  },
  {
   "cell_type": "code",
   "execution_count": 148,
   "metadata": {},
   "outputs": [
    {
     "name": "stdout",
     "output_type": "stream",
     "text": [
      "   index Net    Sta        Lat         Lon  Elev  Start     End\n",
      "0      0  1A  CORRE  67.5828 S  144.2750 E     0   2009  2012.0\n",
      "1      1  7E   PP02  51.0432 N   12.0306 E     0   2006  2006.0\n",
      "2      4  IB   E018  37.9803 N    5.9548 W   392   2007  2009.0\n",
      "3      9  UP   NIKU  67.8673 N   19.0347 E   300   2012  2013.0\n",
      "4     10  XK   LP41  67.0927 N   24.3786 E   224   2007  2009.0\n",
      "5     11  Y4  CSA10  39.8392 N   15.9286 E   814   2014  2015.0\n",
      "6     12  YV   MAYO  12.8456 S   45.1868 E    41   2011  2014.0\n",
      "7     13  Z4   IB30  31.2894 N   35.3562 E   -87   2006  2006.0\n",
      "8     14  ZC   T36G  53.1550 N   12.2590 E    80   1996  1997.0\n",
      "9     15  ZP   KP05  37.1928 S   72.9782 W   127   2000  2000.0\n",
      "\n",
      "   index Net    Sta      Lat       Lon  Elev  Start   End\n",
      "0      0  1A  CORRE -67.5828  144.2750     0   2009  2012\n",
      "1      1  7E   PP02  51.0432   12.0306     0   2006  2006\n",
      "2      4  IB   E018  37.9803   -5.9548   392   2007  2009\n",
      "3      9  UP   NIKU  67.8673   19.0347   300   2012  2013\n",
      "4     10  XK   LP41  67.0927   24.3786   224   2007  2009\n",
      "5     11  Y4  CSA10  39.8392   15.9286   814   2014  2015\n",
      "6     12  YV   MAYO -12.8456   45.1868    41   2011  2014\n",
      "7     13  Z4   IB30  31.2894   35.3562   -87   2006  2006\n",
      "8     14  ZC   T36G  53.1550   12.2590    80   1996  1997\n",
      "9     15  ZP   KP05 -37.1928  -72.9782   127   2000  2000\n"
     ]
    }
   ],
   "source": [
    "dfr = df.reset_index() ## indexの付け直し (元のindexは保持される)\n",
    "print(dfr)\n",
    "print()\n",
    "\n",
    "for i in range(len(dfr.index)):\n",
    "    p = dfr.iat[i,3].split()\n",
    "    dfr.iat[i,3] = p[0] if p[1] == \"N\" else \"-\"+p[0]\n",
    "\n",
    "for i in range(len(dfr.index)):\n",
    "    p = dfr.iat[i,4].split()\n",
    "    dfr.iat[i,4] = p[0] if p[1] == \"E\" else \"-\"+p[0]\n",
    "\n",
    "dfr = dfr.astype({'Lat':float,'Lon':float,'End':int})\n",
    "print(dfr)"
   ]
  },
  {
   "cell_type": "code",
   "execution_count": 149,
   "metadata": {},
   "outputs": [
    {
     "data": {
      "text/html": [
       "<div style=\"width:100%;\"><div style=\"position:relative;width:100%;height:0;padding-bottom:60%;\"><iframe src=\"data:text/html;charset=utf-8;base64,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\" style=\"position:absolute;width:100%;height:100%;left:0;top:0;border:none !important;\" allowfullscreen webkitallowfullscreen mozallowfullscreen></iframe></div></div>"
      ],
      "text/plain": [
       "<folium.folium.Map at 0x102986278>"
      ]
     },
     "metadata": {},
     "output_type": "display_data"
    }
   ],
   "source": [
    "station_map = folium.Map(location=[0,0],zoom_start=1)\n",
    "for _,r in dfr.iterrows():\n",
    "    folium.Marker(location=[r['Lat'],r['Lon']],popup=r['Sta']).add_to(station_map)\n",
    "display(station_map)"
   ]
  },
  {
   "cell_type": "code",
   "execution_count": null,
   "metadata": {},
   "outputs": [],
   "source": []
  }
 ],
 "metadata": {
  "kernelspec": {
   "display_name": "Python 3",
   "language": "python",
   "name": "python3"
  },
  "language_info": {
   "codemirror_mode": {
    "name": "ipython",
    "version": 3
   },
   "file_extension": ".py",
   "mimetype": "text/x-python",
   "name": "python",
   "nbconvert_exporter": "python",
   "pygments_lexer": "ipython3",
   "version": "3.7.2"
  }
 },
 "nbformat": 4,
 "nbformat_minor": 2
}
