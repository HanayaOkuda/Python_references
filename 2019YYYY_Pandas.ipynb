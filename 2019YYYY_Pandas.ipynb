{
 "cells": [
  {
   "cell_type": "markdown",
   "metadata": {},
   "source": [
    "## Pandas (http://pandas.pydata.org/pandas-docs/stable/)"
   ]
  },
  {
   "cell_type": "code",
   "execution_count": 150,
   "metadata": {},
   "outputs": [],
   "source": [
    "import pandas as pd\n",
    "from pandas import DataFrame\n",
    "import folium"
   ]
  },
  {
   "cell_type": "markdown",
   "metadata": {},
   "source": [
    "## Data (Location of European seismic stations)"
   ]
  },
  {
   "cell_type": "code",
   "execution_count": 151,
   "metadata": {},
   "outputs": [
    {
     "name": "stdout",
     "output_type": "stream",
     "text": [
      "Index(['Net', 'Sta', 'Lat', 'Lon', 'Elev', 'Start', 'End'], dtype='object')\n",
      "\n",
      "   Net    Sta        Lat         Lon  Elev  Start     End\n",
      "0   1A  CORRE  67.5828 S  144.2750 E     0   2009  2012.0\n",
      "1   7E   PP02  51.0432 N   12.0306 E     0   2006  2006.0\n",
      "2   CH   SDES  47.3685 N    7.3399 E   454   2016     NaN\n",
      "3   GE   FLT1  52.3306 N   11.2372 E   100   2008     NaN\n",
      "4   IB   E018  37.9803 N    5.9548 W   392   2007  2009.0\n",
      "5   IV   MGAB  42.9126 N   12.1121 E   547   2008     NaN\n",
      "6   KO   RSDY  40.3972 N   37.3273 E   550   2007     NaN\n",
      "7   NL   G583  53.1103 N    6.9071 E     2   2015     NaN\n",
      "8   RA   MVNO  22.2703 S  166.4420 E     0   2006     NaN\n",
      "9   UP   NIKU  67.8673 N   19.0347 E   300   2012  2013.0\n",
      "10  XK   LP41  67.0927 N   24.3786 E   224   2007  2009.0\n",
      "11  Y4  CSA10  39.8392 N   15.9286 E   814   2014  2015.0\n",
      "12  YV   MAYO  12.8456 S   45.1868 E    41   2011  2014.0\n",
      "13  Z4   IB30  31.2894 N   35.3562 E   -87   2006  2006.0\n",
      "14  ZC   T36G  53.1550 N   12.2590 E    80   1996  1997.0\n",
      "15  ZP   KP05  37.1928 S   72.9782 W   127   2000  2000.0\n"
     ]
    }
   ],
   "source": [
    "df = pd.read_csv('EuropeanStationBook.csv',encoding='SHIFT-JIS')\n",
    "print(df.columns)\n",
    "print()\n",
    "df = df[::500] ## データの間引き\n",
    "df.index = [ i for i in range(len(df)) ] ## indexの付け直し (元のindexは保持されない)\n",
    "print(df)"
   ]
  },
  {
   "cell_type": "markdown",
   "metadata": {},
   "source": [
    "## Delete NaN"
   ]
  },
  {
   "cell_type": "code",
   "execution_count": 152,
   "metadata": {},
   "outputs": [
    {
     "name": "stdout",
     "output_type": "stream",
     "text": [
      "   Net    Sta        Lat         Lon  Elev  Start     End\n",
      "0   1A  CORRE  67.5828 S  144.2750 E     0   2009  2012.0\n",
      "1   7E   PP02  51.0432 N   12.0306 E     0   2006  2006.0\n",
      "4   IB   E018  37.9803 N    5.9548 W   392   2007  2009.0\n",
      "9   UP   NIKU  67.8673 N   19.0347 E   300   2012  2013.0\n",
      "10  XK   LP41  67.0927 N   24.3786 E   224   2007  2009.0\n",
      "11  Y4  CSA10  39.8392 N   15.9286 E   814   2014  2015.0\n",
      "12  YV   MAYO  12.8456 S   45.1868 E    41   2011  2014.0\n",
      "13  Z4   IB30  31.2894 N   35.3562 E   -87   2006  2006.0\n",
      "14  ZC   T36G  53.1550 N   12.2590 E    80   1996  1997.0\n",
      "15  ZP   KP05  37.1928 S   72.9782 W   127   2000  2000.0\n"
     ]
    }
   ],
   "source": [
    "df = df.dropna()\n",
    "print(df)"
   ]
  },
  {
   "cell_type": "markdown",
   "metadata": {},
   "source": [
    "## Sort"
   ]
  },
  {
   "cell_type": "code",
   "execution_count": 153,
   "metadata": {},
   "outputs": [
    {
     "name": "stdout",
     "output_type": "stream",
     "text": [
      "   Net    Sta        Lat         Lon  Elev  Start     End\n",
      "0   1A  CORRE  67.5828 S  144.2750 E     0   2009  2012.0\n",
      "11  Y4  CSA10  39.8392 N   15.9286 E   814   2014  2015.0\n",
      "4   IB   E018  37.9803 N    5.9548 W   392   2007  2009.0\n",
      "13  Z4   IB30  31.2894 N   35.3562 E   -87   2006  2006.0\n",
      "15  ZP   KP05  37.1928 S   72.9782 W   127   2000  2000.0\n",
      "10  XK   LP41  67.0927 N   24.3786 E   224   2007  2009.0\n",
      "12  YV   MAYO  12.8456 S   45.1868 E    41   2011  2014.0\n",
      "9   UP   NIKU  67.8673 N   19.0347 E   300   2012  2013.0\n",
      "1   7E   PP02  51.0432 N   12.0306 E     0   2006  2006.0\n",
      "14  ZC   T36G  53.1550 N   12.2590 E    80   1996  1997.0\n"
     ]
    }
   ],
   "source": [
    "print(df.sort_values('Sta'))"
   ]
  },
  {
   "cell_type": "code",
   "execution_count": 154,
   "metadata": {},
   "outputs": [
    {
     "name": "stdout",
     "output_type": "stream",
     "text": [
      "   Net    Sta        Lat         Lon  Elev  Start     End\n",
      "12  YV   MAYO  12.8456 S   45.1868 E    41   2011  2014.0\n",
      "13  Z4   IB30  31.2894 N   35.3562 E   -87   2006  2006.0\n",
      "15  ZP   KP05  37.1928 S   72.9782 W   127   2000  2000.0\n",
      "4   IB   E018  37.9803 N    5.9548 W   392   2007  2009.0\n",
      "11  Y4  CSA10  39.8392 N   15.9286 E   814   2014  2015.0\n",
      "1   7E   PP02  51.0432 N   12.0306 E     0   2006  2006.0\n",
      "14  ZC   T36G  53.1550 N   12.2590 E    80   1996  1997.0\n",
      "10  XK   LP41  67.0927 N   24.3786 E   224   2007  2009.0\n",
      "0   1A  CORRE  67.5828 S  144.2750 E     0   2009  2012.0\n",
      "9   UP   NIKU  67.8673 N   19.0347 E   300   2012  2013.0\n"
     ]
    }
   ],
   "source": [
    "print(df.sort_values('Lat'))"
   ]
  },
  {
   "cell_type": "markdown",
   "metadata": {},
   "source": [
    "## Data access"
   ]
  },
  {
   "cell_type": "code",
   "execution_count": 155,
   "metadata": {},
   "outputs": [
    {
     "name": "stdout",
     "output_type": "stream",
     "text": [
      "0     CORRE\n",
      "1      PP02\n",
      "4      E018\n",
      "9      NIKU\n",
      "10     LP41\n",
      "11    CSA10\n",
      "12     MAYO\n",
      "13     IB30\n",
      "14     T36G\n",
      "15     KP05\n",
      "Name: Sta, dtype: object\n"
     ]
    }
   ],
   "source": [
    "print(df['Sta'])"
   ]
  },
  {
   "cell_type": "markdown",
   "metadata": {},
   "source": [
    "## Data handling"
   ]
  },
  {
   "cell_type": "code",
   "execution_count": 156,
   "metadata": {},
   "outputs": [
    {
     "name": "stdout",
     "output_type": "stream",
     "text": [
      "   index Net    Sta        Lat         Lon  Elev  Start     End\n",
      "0      0  1A  CORRE  67.5828 S  144.2750 E     0   2009  2012.0\n",
      "1      1  7E   PP02  51.0432 N   12.0306 E     0   2006  2006.0\n",
      "2      4  IB   E018  37.9803 N    5.9548 W   392   2007  2009.0\n",
      "3      9  UP   NIKU  67.8673 N   19.0347 E   300   2012  2013.0\n",
      "4     10  XK   LP41  67.0927 N   24.3786 E   224   2007  2009.0\n",
      "5     11  Y4  CSA10  39.8392 N   15.9286 E   814   2014  2015.0\n",
      "6     12  YV   MAYO  12.8456 S   45.1868 E    41   2011  2014.0\n",
      "7     13  Z4   IB30  31.2894 N   35.3562 E   -87   2006  2006.0\n",
      "8     14  ZC   T36G  53.1550 N   12.2590 E    80   1996  1997.0\n",
      "9     15  ZP   KP05  37.1928 S   72.9782 W   127   2000  2000.0\n",
      "\n",
      "   index Net    Sta      Lat       Lon  Elev  Start   End\n",
      "0      0  1A  CORRE -67.5828  144.2750     0   2009  2012\n",
      "1      1  7E   PP02  51.0432   12.0306     0   2006  2006\n",
      "2      4  IB   E018  37.9803   -5.9548   392   2007  2009\n",
      "3      9  UP   NIKU  67.8673   19.0347   300   2012  2013\n",
      "4     10  XK   LP41  67.0927   24.3786   224   2007  2009\n",
      "5     11  Y4  CSA10  39.8392   15.9286   814   2014  2015\n",
      "6     12  YV   MAYO -12.8456   45.1868    41   2011  2014\n",
      "7     13  Z4   IB30  31.2894   35.3562   -87   2006  2006\n",
      "8     14  ZC   T36G  53.1550   12.2590    80   1996  1997\n",
      "9     15  ZP   KP05 -37.1928  -72.9782   127   2000  2000\n"
     ]
    }
   ],
   "source": [
    "dfr = df.reset_index() ## indexの付け直し (元のindexは保持される)\n",
    "print(dfr)\n",
    "print()\n",
    "\n",
    "for i in range(len(dfr.index)):\n",
    "    p = dfr.iat[i,3].split()\n",
    "    dfr.iat[i,3] = p[0] if p[1] == \"N\" else \"-\"+p[0]\n",
    "\n",
    "for i in range(len(dfr.index)):\n",
    "    p = dfr.iat[i,4].split()\n",
    "    dfr.iat[i,4] = p[0] if p[1] == \"E\" else \"-\"+p[0]\n",
    "\n",
    "dfr = dfr.astype({'Lat':float,'Lon':float,'End':int})\n",
    "print(dfr)"
   ]
  },
  {
   "cell_type": "markdown",
   "metadata": {},
   "source": [
    "## Making map with Folium"
   ]
  },
  {
   "cell_type": "code",
   "execution_count": 157,
   "metadata": {},
   "outputs": [
    {
     "data": {
      "text/html": [
       "<div style=\"width:100%;\"><div style=\"position:relative;width:100%;height:0;padding-bottom:60%;\"><iframe src=\"data:text/html;charset=utf-8;base64,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\" style=\"position:absolute;width:100%;height:100%;left:0;top:0;border:none !important;\" allowfullscreen webkitallowfullscreen mozallowfullscreen></iframe></div></div>"
      ],
      "text/plain": [
       "<folium.folium.Map at 0x102970128>"
      ]
     },
     "metadata": {},
     "output_type": "display_data"
    }
   ],
   "source": [
    "## HTMLで地図を作成できる\n",
    "station_map = folium.Map(location=[0,0],zoom_start=1)\n",
    "for _,r in dfr.iterrows():\n",
    "    folium.Marker(location=[r['Lat'],r['Lon']],popup=r['Sta']).add_to(station_map)\n",
    "display(station_map)"
   ]
  },
  {
   "cell_type": "code",
   "execution_count": null,
   "metadata": {},
   "outputs": [],
   "source": []
  }
 ],
 "metadata": {
  "kernelspec": {
   "display_name": "Python 3",
   "language": "python",
   "name": "python3"
  },
  "language_info": {
   "codemirror_mode": {
    "name": "ipython",
    "version": 3
   },
   "file_extension": ".py",
   "mimetype": "text/x-python",
   "name": "python",
   "nbconvert_exporter": "python",
   "pygments_lexer": "ipython3",
   "version": "3.7.2"
  }
 },
 "nbformat": 4,
 "nbformat_minor": 2
}
