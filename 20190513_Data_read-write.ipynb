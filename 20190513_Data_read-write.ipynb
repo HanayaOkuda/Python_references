{
 "cells": [
  {
   "cell_type": "markdown",
   "metadata": {},
   "source": [
    "# Read from text data"
   ]
  },
  {
   "cell_type": "code",
   "execution_count": 58,
   "metadata": {},
   "outputs": [],
   "source": [
    "import numpy as np\n",
    "\n",
    "filename=\"data.txt\""
   ]
  },
  {
   "cell_type": "markdown",
   "metadata": {},
   "source": [
    "## python mode"
   ]
  },
  {
   "cell_type": "markdown",
   "metadata": {},
   "source": [
    "### f.read()"
   ]
  },
  {
   "cell_type": "code",
   "execution_count": 59,
   "metadata": {},
   "outputs": [
    {
     "name": "stdout",
     "output_type": "stream",
     "text": [
      "This is a test text data for python-seminar.\n",
      "Name Year Lab Comment\n",
      "Sato AP Sato Paleomagne\n",
      "Ito D1 Iizuka Geochem\n",
      "Enomoto D1 Iizuka Geochem\n",
      "Ue M2 Kawai Waveform Inversion\n",
      "Okuda M2 Kawai Friction\n",
      "Yoshida M1 Wallis Rheology\n",
      "Fukuda M1 AORI Climate Simulation\n",
      "Index Jpyear ADyear\n",
      "J 30 2019 2542\n",
      "I 29 2018 1345\n",
      "H 28 2017 654\n",
      "G 27 2016 14585\n",
      "F 26 2015 315\n",
      "E 25 2014 94\n",
      "D 24 2013 13465\n",
      "C 23 2012 4572\n",
      "B 22 2011 9785\n",
      "A 21 2010 245\n",
      "30 2019 2542\n",
      "29 2018 1345\n",
      "28 2017 654\n",
      "27 2016 14585\n",
      "26 2015 315\n",
      "25 2014 94\n",
      "24 2013 13465\n",
      "23 2012 4572\n",
      "22 2011 9785\n",
      "21 2010 245\n",
      "\n",
      "['This', 'is', 'a', 'test', 'text', 'data', 'for', 'python-seminar.', 'Name', 'Year', 'Lab', 'Comment', 'Sato', 'AP', 'Sato', 'Paleomagne', 'Ito', 'D1', 'Iizuka', 'Geochem', 'Enomoto', 'D1', 'Iizuka', 'Geochem', 'Ue', 'M2', 'Kawai', 'Waveform', 'Inversion', 'Okuda', 'M2', 'Kawai', 'Friction', 'Yoshida', 'M1', 'Wallis', 'Rheology', 'Fukuda', 'M1', 'AORI', 'Climate', 'Simulation', 'Index', 'Jpyear', 'ADyear', 'J', '30', '2019', '2542', 'I', '29', '2018', '1345', 'H', '28', '2017', '654', 'G', '27', '2016', '14585', 'F', '26', '2015', '315', 'E', '25', '2014', '94', 'D', '24', '2013', '13465', 'C', '23', '2012', '4572', 'B', '22', '2011', '9785', 'A', '21', '2010', '245', '30', '2019', '2542', '29', '2018', '1345', '28', '2017', '654', '27', '2016', '14585', '26', '2015', '315', '25', '2014', '94', '24', '2013', '13465', '23', '2012', '4572', '22', '2011', '9785', '21', '2010', '245']\n"
     ]
    }
   ],
   "source": [
    "f=open(filename)\n",
    "all_data=f.read()\n",
    "f.close()\n",
    "\n",
    "print(all_data)\n",
    "print(all_data.split())"
   ]
  },
  {
   "cell_type": "markdown",
   "metadata": {},
   "source": [
    "### f.readlines()"
   ]
  },
  {
   "cell_type": "code",
   "execution_count": 63,
   "metadata": {},
   "outputs": [
    {
     "name": "stdout",
     "output_type": "stream",
     "text": [
      "['This is a test text data for python-seminar.\\n', 'Name Year Lab Comment\\n', 'Sato AP Sato Paleomagne\\n', 'Ito D1 Iizuka Geochem\\n', 'Enomoto D1 Iizuka Geochem\\n', 'Ue M2 Kawai Waveform Inversion\\n', 'Okuda M2 Kawai Friction\\n', 'Yoshida M1 Wallis Rheology\\n', 'Fukuda M1 AORI Climate Simulation\\n', 'Index Jpyear ADyear\\n', 'J 30 2019 2542\\n', 'I 29 2018 1345\\n', 'H 28 2017 654\\n', 'G 27 2016 14585\\n', 'F 26 2015 315\\n', 'E 25 2014 94\\n', 'D 24 2013 13465\\n', 'C 23 2012 4572\\n', 'B 22 2011 9785\\n', 'A 21 2010 245\\n', '30 2019 2542\\n', '29 2018 1345\\n', '28 2017 654\\n', '27 2016 14585\\n', '26 2015 315\\n', '25 2014 94\\n', '24 2013 13465\\n', '23 2012 4572\\n', '22 2011 9785\\n', '21 2010 245\\n']\n",
      "---------------\n",
      "['This', 'is', 'a', 'test', 'text', 'data', 'for', 'python-seminar.']\n",
      "['Name', 'Year', 'Lab', 'Comment']\n",
      "['Sato', 'AP', 'Sato', 'Paleomagne']\n",
      "['Ito', 'D1', 'Iizuka', 'Geochem']\n",
      "['Enomoto', 'D1', 'Iizuka', 'Geochem']\n",
      "['Ue', 'M2', 'Kawai', 'Waveform', 'Inversion']\n",
      "['Okuda', 'M2', 'Kawai', 'Friction']\n",
      "['Yoshida', 'M1', 'Wallis', 'Rheology']\n",
      "['Fukuda', 'M1', 'AORI', 'Climate', 'Simulation']\n",
      "['Index', 'Jpyear', 'ADyear']\n",
      "['J', '30', '2019', '2542']\n",
      "['I', '29', '2018', '1345']\n",
      "['H', '28', '2017', '654']\n",
      "['G', '27', '2016', '14585']\n",
      "['F', '26', '2015', '315']\n",
      "['E', '25', '2014', '94']\n",
      "['D', '24', '2013', '13465']\n",
      "['C', '23', '2012', '4572']\n",
      "['B', '22', '2011', '9785']\n",
      "['A', '21', '2010', '245']\n",
      "['30', '2019', '2542']\n",
      "['29', '2018', '1345']\n",
      "['28', '2017', '654']\n",
      "['27', '2016', '14585']\n",
      "['26', '2015', '315']\n",
      "['25', '2014', '94']\n",
      "['24', '2013', '13465']\n",
      "['23', '2012', '4572']\n",
      "['22', '2011', '9785']\n",
      "['21', '2010', '245']\n",
      "---------------\n",
      "[[   30.  2019.  2542.]\n",
      " [   29.  2018.  1345.]\n",
      " [   28.  2017.   654.]\n",
      " [   27.  2016. 14585.]\n",
      " [   26.  2015.   315.]\n",
      " [   25.  2014.    94.]\n",
      " [   24.  2013. 13465.]\n",
      " [   23.  2012.  4572.]\n",
      " [   22.  2011.  9785.]\n",
      " [   21.  2010.   245.]]\n"
     ]
    }
   ],
   "source": [
    "f=open(filename)\n",
    "all_line_data=f.readlines()\n",
    "f.close()\n",
    "\n",
    "print(all_line_data)\n",
    "\n",
    "print(\"---------------\")\n",
    "for i in range (len(all_line_data)):\n",
    "    print (all_line_data[i].split())\n",
    "    \n",
    "print(\"---------------\")\n",
    "float_data_1=np.empty((10,3))\n",
    "for i in range (10):\n",
    "    for j in range (3):\n",
    "        float_data[i][j]=float(all_line_data[i+10].split()[j+1]) #先頭列の文字をはじいた上で数値データのみをndarray化する例\n",
    "print(float_data)"
   ]
  },
  {
   "cell_type": "markdown",
   "metadata": {},
   "source": [
    "### f.readline()"
   ]
  },
  {
   "cell_type": "code",
   "execution_count": 61,
   "metadata": {},
   "outputs": [
    {
     "name": "stdout",
     "output_type": "stream",
     "text": [
      "This is a test text data for python-seminar.\n",
      "\n",
      "Name Year Lab Comment\n",
      "\n",
      "Sato AP Sato Paleomagne\n",
      "\n",
      "Ito D1 Iizuka Geochem\n",
      "\n",
      "Enomoto D1 Iizuka Geochem\n",
      "\n",
      "Ue M2 Kawai Waveform Inversion\n",
      "\n",
      "Okuda M2 Kawai Friction\n",
      "\n",
      "Yoshida M1 Wallis Rheology\n",
      "\n",
      "Fukuda M1 AORI Climate Simulation\n",
      "\n",
      "Index Jpyear ADyear\n",
      "\n",
      "J 30 2019 2542\n",
      "\n",
      "I 29 2018 1345\n",
      "\n",
      "H 28 2017 654\n",
      "\n",
      "G 27 2016 14585\n",
      "\n",
      "F 26 2015 315\n",
      "\n",
      "E 25 2014 94\n",
      "\n",
      "D 24 2013 13465\n",
      "\n",
      "C 23 2012 4572\n",
      "\n",
      "B 22 2011 9785\n",
      "\n",
      "A 21 2010 245\n",
      "\n",
      "30 2019 2542\n",
      "\n",
      "29 2018 1345\n",
      "\n",
      "28 2017 654\n",
      "\n",
      "27 2016 14585\n",
      "\n",
      "26 2015 315\n",
      "\n",
      "25 2014 94\n",
      "\n",
      "24 2013 13465\n",
      "\n",
      "23 2012 4572\n",
      "\n",
      "22 2011 9785\n",
      "\n",
      "21 2010 245\n",
      "\n"
     ]
    }
   ],
   "source": [
    "f=open(filename)\n",
    "one_line_data=f.readline()\n",
    "\n",
    "while one_line_data:\n",
    "    print(one_line_data)\n",
    "    one_line_data=f.readline()\n",
    "    \n",
    "f.close()"
   ]
  },
  {
   "cell_type": "markdown",
   "metadata": {},
   "source": [
    "## NumPy np.loadtxt"
   ]
  },
  {
   "cell_type": "code",
   "execution_count": 62,
   "metadata": {},
   "outputs": [
    {
     "name": "stdout",
     "output_type": "stream",
     "text": [
      "[[   30.  2019.  2542.]\n",
      " [   29.  2018.  1345.]\n",
      " [   28.  2017.   654.]\n",
      " [   27.  2016. 14585.]\n",
      " [   26.  2015.   315.]\n",
      " [   25.  2014.    94.]\n",
      " [   24.  2013. 13465.]\n",
      " [   23.  2012.  4572.]\n",
      " [   22.  2011.  9785.]\n",
      " [   21.  2010.   245.]]\n"
     ]
    }
   ],
   "source": [
    "all_line_data_numpy=np.loadtxt(filename,skiprows=20) #文字列がないところまで行をスキップする\n",
    "print(all_line_data_numpy)"
   ]
  },
  {
   "cell_type": "code",
   "execution_count": null,
   "metadata": {},
   "outputs": [],
   "source": []
  }
 ],
 "metadata": {
  "kernelspec": {
   "display_name": "Python 3",
   "language": "python",
   "name": "python3"
  },
  "language_info": {
   "codemirror_mode": {
    "name": "ipython",
    "version": 3
   },
   "file_extension": ".py",
   "mimetype": "text/x-python",
   "name": "python",
   "nbconvert_exporter": "python",
   "pygments_lexer": "ipython3",
   "version": "3.6.4"
  }
 },
 "nbformat": 4,
 "nbformat_minor": 2
}
