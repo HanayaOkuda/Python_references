{
 "cells": [
  {
   "cell_type": "code",
   "execution_count": 64,
   "metadata": {},
   "outputs": [],
   "source": [
    "import math\n",
    "import matplotlib.pyplot as plt"
   ]
  },
  {
   "cell_type": "markdown",
   "metadata": {},
   "source": [
    "## \"Hello World!\""
   ]
  },
  {
   "cell_type": "code",
   "execution_count": 157,
   "metadata": {},
   "outputs": [
    {
     "name": "stdout",
     "output_type": "stream",
     "text": [
      "Python lunch seminar\n"
     ]
    }
   ],
   "source": [
    "print(\"Python lunch seminar\")"
   ]
  },
  {
   "cell_type": "markdown",
   "metadata": {},
   "source": [
    "## Fizz Buzz"
   ]
  },
  {
   "cell_type": "code",
   "execution_count": 7,
   "metadata": {},
   "outputs": [
    {
     "name": "stdout",
     "output_type": "stream",
     "text": [
      "0 : FizzBuzz\n",
      "1\n",
      "2\n",
      "3 : Fizz\n",
      "4\n",
      "5 : Buzz\n",
      "6 : Fizz\n",
      "7\n",
      "8\n",
      "9 : Fizz\n",
      "10 : Buzz\n",
      "11\n",
      "12 : Fizz\n",
      "13\n",
      "14\n",
      "15 : FizzBuzz\n",
      "16\n",
      "17\n",
      "18 : Fizz\n",
      "19\n",
      "20 : Buzz\n",
      "21 : Fizz\n",
      "22\n",
      "23\n",
      "24 : Fizz\n",
      "25 : Buzz\n",
      "26\n",
      "27 : Fizz\n",
      "28\n",
      "29\n",
      "30 : FizzBuzz\n",
      "31\n",
      "32\n",
      "33 : Fizz\n",
      "34\n",
      "35 : Buzz\n",
      "36 : Fizz\n",
      "37\n",
      "38\n",
      "39 : Fizz\n",
      "40 : Buzz\n",
      "41\n",
      "42 : Fizz\n",
      "43\n",
      "44\n",
      "45 : FizzBuzz\n",
      "46\n",
      "47\n",
      "48 : Fizz\n",
      "49\n"
     ]
    }
   ],
   "source": [
    "for i in range (50):\n",
    "    if (i%15==0):\n",
    "        print(i,\": FizzBuzz\")\n",
    "    elif (i%3==0):\n",
    "        print(i,\": Fizz\")\n",
    "    elif (i%5==0):\n",
    "        print(i,\": Buzz\")\n",
    "    else:\n",
    "        print(i)"
   ]
  },
  {
   "cell_type": "code",
   "execution_count": null,
   "metadata": {},
   "outputs": [],
   "source": []
  }
 ],
 "metadata": {
  "kernelspec": {
   "display_name": "Python 3",
   "language": "python",
   "name": "python3"
  },
  "language_info": {
   "codemirror_mode": {
    "name": "ipython",
    "version": 3
   },
   "file_extension": ".py",
   "mimetype": "text/x-python",
   "name": "python",
   "nbconvert_exporter": "python",
   "pygments_lexer": "ipython3",
   "version": "3.6.4"
  }
 },
 "nbformat": 4,
 "nbformat_minor": 2
}
