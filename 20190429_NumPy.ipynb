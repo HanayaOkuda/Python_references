{
 "cells": [
  {
   "cell_type": "markdown",
   "metadata": {},
   "source": [
    "## NumPy (https://docs.scipy.org/doc/numpy/release.html)"
   ]
  },
  {
   "cell_type": "code",
   "execution_count": 36,
   "metadata": {},
   "outputs": [],
   "source": [
    "import numpy as np\n",
    "import matplotlib.pyplot as plt"
   ]
  },
  {
   "cell_type": "markdown",
   "metadata": {},
   "source": [
    "## Vector"
   ]
  },
  {
   "cell_type": "code",
   "execution_count": 45,
   "metadata": {
    "scrolled": true
   },
   "outputs": [
    {
     "name": "stdout",
     "output_type": "stream",
     "text": [
      "DECLARE\n",
      "x:  [1 2 3]\n",
      "y:  [4 5 6]\n",
      "\n",
      "ARITHMETIC\n",
      "+:  [5 7 9]\n",
      "-:  [-3 -3 -3]\n",
      "*:  [ 4 10 18]\n",
      "/:  [0.25 0.4  0.5 ]\n",
      "**:  [  1  32 729]\n",
      "+1:  [2 3 4]\n",
      "\n",
      "FUNCTIONS\n",
      "sin:  [0.84147098 0.90929743 0.14112001]\n",
      "cos:  [ 0.54030231 -0.41614684 -0.9899925 ]\n",
      "exp:  [ 2.71828183  7.3890561  20.08553692]\n",
      "log:  [0.         0.69314718 1.09861229]\n",
      "etc...\n"
     ]
    }
   ],
   "source": [
    "# declare\n",
    "x = np.array([1,2,3])\n",
    "y = np.array([4,5,6])\n",
    "print(\"DECLARE\")\n",
    "print(\"x: \",x)\n",
    "print(\"y: \",y)\n",
    "print()\n",
    "\n",
    "# arithmetic (Fortranに似てる)\n",
    "print(\"ARITHMETIC\")\n",
    "print(\"+: \",x+y)\n",
    "print(\"-: \",x-y)\n",
    "print(\"*: \",x*y)\n",
    "print(\"/: \",x/y)\n",
    "print(\"**: \",x**y)\n",
    "print(\"+1: \",x+1)\n",
    "print()\n",
    "\n",
    "# functions (Fortranに似てる)\n",
    "print(\"FUNCTIONS\")\n",
    "print(\"sin: \",np.sin(x))\n",
    "print(\"cos: \",np.cos(x))\n",
    "print(\"exp: \",np.exp(x))\n",
    "print(\"log: \",np.log(x))\n",
    "print(\"etc...\")"
   ]
  },
  {
   "cell_type": "code",
   "execution_count": 38,
   "metadata": {},
   "outputs": [
    {
     "name": "stdout",
     "output_type": "stream",
     "text": [
      "DOT PRODUCT\n",
      "32\n",
      "32\n",
      "\n",
      "CROSS PRODUCT\n",
      "[-3  6 -3]\n",
      "\n"
     ]
    }
   ],
   "source": [
    "# dot product\n",
    "print(\"DOT PRODUCT\")\n",
    "d = np.dot(x,y)\n",
    "print(d)\n",
    "d = x.dot(y)\n",
    "print(d)\n",
    "print()\n",
    "\n",
    "# cross product\n",
    "print(\"CROSS PRODUCT\")\n",
    "c = np.cross(x,y)\n",
    "print(c)\n",
    "print()"
   ]
  },
  {
   "cell_type": "code",
   "execution_count": 42,
   "metadata": {},
   "outputs": [
    {
     "name": "stdout",
     "output_type": "stream",
     "text": [
      "SHALLOW COPY\n",
      "original\n",
      "x:  [1 2 3]\n",
      "y:  [4 5 6]\n",
      "\n",
      "x = y\n",
      "x:  [4 5 6]\n",
      "y:  [4 5 6]\n",
      "\n",
      "y[1] = -1\n",
      "x:  [ 4 -1  6]\n",
      "y:  [ 4 -1  6]\n",
      "\n",
      "DEEP COPY\n",
      "original\n",
      "x:  [1 2 3]\n",
      "y:  [4 5 6]\n",
      "\n",
      "x = np.copy(y)\n",
      "x:  [4 5 6]\n",
      "y:  [4 5 6]\n",
      "\n",
      "y[1] = -1\n",
      "x:  [4 5 6]\n",
      "y:  [ 4 -1  6]\n",
      "\n"
     ]
    }
   ],
   "source": [
    "# shallow copy (Fortranと違う)\n",
    "x = np.array([1,2,3])\n",
    "y = np.array([4,5,6])\n",
    "print(\"SHALLOW COPY\")\n",
    "print(\"original\")\n",
    "print(\"x: \",x)\n",
    "print(\"y: \",y)\n",
    "print()\n",
    "x = y\n",
    "print(\"x = y\")\n",
    "print(\"x: \",x)\n",
    "print(\"y: \",y)\n",
    "print()\n",
    "y[1] = -1\n",
    "print(\"y[1] = -1\")\n",
    "print(\"x: \",x)\n",
    "print(\"y: \",y)\n",
    "print()\n",
    "\n",
    "# deep copy\n",
    "x = np.array([1,2,3])\n",
    "y = np.array([4,5,6])\n",
    "print(\"DEEP COPY\")\n",
    "print(\"original\")\n",
    "print(\"x: \",x)\n",
    "print(\"y: \",y)\n",
    "print()\n",
    "x = np.copy(y)\n",
    "print(\"x = np.copy(y)\")\n",
    "print(\"x: \",x)\n",
    "print(\"y: \",y)\n",
    "print()\n",
    "y[1] = -1\n",
    "print(\"y[1] = -1\")\n",
    "print(\"x: \",x)\n",
    "print(\"y: \",y)\n",
    "print()\n",
    "\n",
    "# ただし、配列の形状がいびつな場合はcopyがうまくいかず、参照渡しとなる。\n",
    "# 配列の形状がいびつな場合でdeep copyをしたい場合は、\n",
    "# import copyして、x = copy.deepcopy(y)とする。"
   ]
  },
  {
   "cell_type": "markdown",
   "metadata": {},
   "source": [
    "## Matrix"
   ]
  },
  {
   "cell_type": "code",
   "execution_count": 47,
   "metadata": {},
   "outputs": [
    {
     "name": "stdout",
     "output_type": "stream",
     "text": [
      "DECLARE\n",
      "a:  [[1 2 3]\n",
      " [4 5 6]]\n",
      "b:  [[4 5 6]\n",
      " [7 8 9]]\n",
      "\n",
      "ARITHMETIC\n",
      "+:  [[ 5  7  9]\n",
      " [11 13 15]]\n",
      "-:  [[-3 -3 -3]\n",
      " [-3 -3 -3]]\n",
      "*:  [[ 4 10 18]\n",
      " [28 40 54]]\n",
      "/:  [[0.25       0.4        0.5       ]\n",
      " [0.57142857 0.625      0.66666667]]\n",
      "**:  [[       1       32      729]\n",
      " [   16384   390625 10077696]]\n",
      "+1:  [[2 3 4]\n",
      " [5 6 7]]\n",
      "\n",
      "FUNCTIONS\n",
      "sin:  [[ 0.84147098  0.90929743  0.14112001]\n",
      " [-0.7568025  -0.95892427 -0.2794155 ]]\n",
      "cos:  [[ 0.54030231 -0.41614684 -0.9899925 ]\n",
      " [-0.65364362  0.28366219  0.96017029]]\n",
      "exp:  [[  2.71828183   7.3890561   20.08553692]\n",
      " [ 54.59815003 148.4131591  403.42879349]]\n",
      "log:  [[0.         0.69314718 1.09861229]\n",
      " [1.38629436 1.60943791 1.79175947]]\n",
      "etc...\n"
     ]
    }
   ],
   "source": [
    "# declare\n",
    "a = np.array([[1,2,3],[4,5,6]])\n",
    "b = np.array([[4,5,6],[7,8,9]])\n",
    "print(\"DECLARE\")\n",
    "print(\"a: \",a)\n",
    "print(\"b: \",b)\n",
    "print()\n",
    "\n",
    "# arithmetic (Fortranに似てる)\n",
    "print(\"ARITHMETIC\")\n",
    "print(\"+: \",a+b)\n",
    "print(\"-: \",a-b)\n",
    "print(\"*: \",a*b)\n",
    "print(\"/: \",a/b)\n",
    "print(\"**: \",a**b)\n",
    "print(\"+1: \",a+1)\n",
    "print()\n",
    "\n",
    "# functions (Fortranに似てる)\n",
    "print(\"FUNCTIONS\")\n",
    "print(\"sin: \",np.sin(a))\n",
    "print(\"cos: \",np.cos(a))\n",
    "print(\"exp: \",np.exp(a))\n",
    "print(\"log: \",np.log(a))\n",
    "print(\"etc...\")"
   ]
  },
  {
   "cell_type": "code",
   "execution_count": 53,
   "metadata": {},
   "outputs": [
    {
     "name": "stdout",
     "output_type": "stream",
     "text": [
      "c:  [ 0  1  2  3  4  5  6  7  8  9 10 11 12 13 14 15 16 17 18 19 20 21 22 23]\n",
      "c.reshape([3,8]):  [[ 0  1  2  3  4  5  6  7]\n",
      " [ 8  9 10 11 12 13 14 15]\n",
      " [16 17 18 19 20 21 22 23]]\n",
      "c.reshape(3,8):  [[ 0  1  2  3  4  5  6  7]\n",
      " [ 8  9 10 11 12 13 14 15]\n",
      " [16 17 18 19 20 21 22 23]]\n",
      "np.reshape(c,[3,8]):  [[ 0  1  2  3  4  5  6  7]\n",
      " [ 8  9 10 11 12 13 14 15]\n",
      " [16 17 18 19 20 21 22 23]]\n",
      "c.reshape(3,-1):  [[ 0  1  2  3  4  5  6  7]\n",
      " [ 8  9 10 11 12 13 14 15]\n",
      " [16 17 18 19 20 21 22 23]]\n"
     ]
    }
   ],
   "source": [
    "# reshape\n",
    "c = np.arange(24)\n",
    "print(\"c: \",c)\n",
    "print(\"c.reshape([3,8]): \",c.reshape([3,8]))\n",
    "print(\"c.reshape(3,8): \",c.reshape(3,8))\n",
    "print(\"np.reshape(c,[3,8]): \",np.reshape(c,[3,8]))\n",
    "# np.reshape(c,3,8)はダメ\n",
    "print(\"c.reshape(3,-1): \",c.reshape(3,-1))\n",
    "# -1を指定すると自動で形状を計算してくれる\n",
    "\n",
    "# 引数にorder='F'やorder='C'を入れると、\n",
    "# 配列の順序をFortran式かC言語式として指定できる。\n",
    "# defaultはorder='C'。"
   ]
  },
  {
   "cell_type": "code",
   "execution_count": 56,
   "metadata": {},
   "outputs": [
    {
     "name": "stdout",
     "output_type": "stream",
     "text": [
      "a:  [[1 2 3]\n",
      " [4 5 6]]\n",
      "b:  [[4 5 6]\n",
      " [7 8 9]]\n",
      "\n",
      "TRANSPOSE\n",
      "b.T:  [[4 7]\n",
      " [5 8]\n",
      " [6 9]]\n",
      "\n",
      "MATRIX MULTIPLY\n",
      "m:  [[32 43 54]\n",
      " [37 50 63]\n",
      " [42 57 72]]\n",
      "\n"
     ]
    }
   ],
   "source": [
    "a = np.array([[1,2,3],[4,5,6]])\n",
    "b = np.array([[4,5,6],[7,8,9]])\n",
    "print(\"a: \",a)\n",
    "print(\"b: \",b)\n",
    "print()\n",
    "\n",
    "# transpose\n",
    "print(\"TRANSPOSE\")\n",
    "print(\"b.T: \",b.T)\n",
    "print()\n",
    "\n",
    "# matrix multiply\n",
    "print(\"MATRIX MULTIPLY\")\n",
    "m = np.dot(b.T,a)\n",
    "print(\"m: \",m)\n",
    "print()"
   ]
  },
  {
   "cell_type": "code",
   "execution_count": null,
   "metadata": {},
   "outputs": [],
   "source": []
  }
 ],
 "metadata": {
  "kernelspec": {
   "display_name": "Python 3",
   "language": "python",
   "name": "python3"
  },
  "language_info": {
   "codemirror_mode": {
    "name": "ipython",
    "version": 3
   },
   "file_extension": ".py",
   "mimetype": "text/x-python",
   "name": "python",
   "nbconvert_exporter": "python",
   "pygments_lexer": "ipython3",
   "version": "3.7.2"
  }
 },
 "nbformat": 4,
 "nbformat_minor": 2
}
