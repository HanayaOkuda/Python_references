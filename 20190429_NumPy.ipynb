{
 "cells": [
  {
   "cell_type": "markdown",
   "metadata": {},
   "source": [
    "## NumPy (https://docs.scipy.org/doc/numpy/release.html)"
   ]
  },
  {
   "cell_type": "code",
   "execution_count": 36,
   "metadata": {},
   "outputs": [],
   "source": [
    "import numpy as np\n",
    "import matplotlib.pyplot as plt"
   ]
  },
  {
   "cell_type": "markdown",
   "metadata": {},
   "source": [
    "## Vector"
   ]
  },
  {
   "cell_type": "code",
   "execution_count": 37,
   "metadata": {
    "scrolled": true
   },
   "outputs": [
    {
     "name": "stdout",
     "output_type": "stream",
     "text": [
      "DECLARE\n",
      "x:  [1 2 3]\n",
      "y:  [4 5 6]\n",
      "\n",
      "ARITHMETIC\n",
      "+:  [5 7 9]\n",
      "-:  [-3 -3 -3]\n",
      "*:  [ 4 10 18]\n",
      "/:  [0.25 0.4  0.5 ]\n",
      "**:  [  1  32 729]\n",
      "\n",
      "FUNCTIONS\n",
      "sin:  [0.84147098 0.90929743 0.14112001]\n",
      "cos:  [ 0.54030231 -0.41614684 -0.9899925 ]\n",
      "exp:  [ 2.71828183  7.3890561  20.08553692]\n",
      "log:  [0.         0.69314718 1.09861229]\n",
      "etc...\n"
     ]
    }
   ],
   "source": [
    "# declare\n",
    "x = np.array([1,2,3])\n",
    "y = np.array([4,5,6])\n",
    "print(\"DECLARE\")\n",
    "print(\"x: \",x)\n",
    "print(\"y: \",y)\n",
    "print()\n",
    "\n",
    "# arithmetic\n",
    "print(\"ARITHMETIC\")\n",
    "print(\"+: \",x+y)\n",
    "print(\"-: \",x-y)\n",
    "print(\"*: \",x*y)\n",
    "print(\"/: \",x/y)\n",
    "print(\"**: \",x**y)\n",
    "print()\n",
    "\n",
    "# functions\n",
    "print(\"FUNCTIONS\")\n",
    "print(\"sin: \",np.sin(x))\n",
    "print(\"cos: \",np.cos(x))\n",
    "print(\"exp: \",np.exp(x))\n",
    "print(\"log: \",np.log(x))\n",
    "print(\"etc...\")"
   ]
  },
  {
   "cell_type": "code",
   "execution_count": 38,
   "metadata": {},
   "outputs": [
    {
     "name": "stdout",
     "output_type": "stream",
     "text": [
      "DOT PRODUCT\n",
      "32\n",
      "32\n",
      "\n",
      "CROSS PRODUCT\n",
      "[-3  6 -3]\n",
      "\n"
     ]
    }
   ],
   "source": [
    "# dot product\n",
    "print(\"DOT PRODUCT\")\n",
    "d = np.dot(x,y)\n",
    "print(d)\n",
    "d = x.dot(y)\n",
    "print(d)\n",
    "print()\n",
    "\n",
    "# cross product\n",
    "print(\"CROSS PRODUCT\")\n",
    "c = np.cross(x,y)\n",
    "print(c)\n",
    "print()"
   ]
  },
  {
   "cell_type": "code",
   "execution_count": 42,
   "metadata": {},
   "outputs": [
    {
     "name": "stdout",
     "output_type": "stream",
     "text": [
      "SHALLOW COPY\n",
      "original\n",
      "x:  [1 2 3]\n",
      "y:  [4 5 6]\n",
      "\n",
      "x = y\n",
      "x:  [4 5 6]\n",
      "y:  [4 5 6]\n",
      "\n",
      "y[1] = -1\n",
      "x:  [ 4 -1  6]\n",
      "y:  [ 4 -1  6]\n",
      "\n",
      "DEEP COPY\n",
      "original\n",
      "x:  [1 2 3]\n",
      "y:  [4 5 6]\n",
      "\n",
      "x = np.copy(y)\n",
      "x:  [4 5 6]\n",
      "y:  [4 5 6]\n",
      "\n",
      "y[1] = -1\n",
      "x:  [4 5 6]\n",
      "y:  [ 4 -1  6]\n",
      "\n"
     ]
    }
   ],
   "source": [
    "# shallow copy\n",
    "x = np.array([1,2,3])\n",
    "y = np.array([4,5,6])\n",
    "print(\"SHALLOW COPY\")\n",
    "print(\"original\")\n",
    "print(\"x: \",x)\n",
    "print(\"y: \",y)\n",
    "print()\n",
    "x = y\n",
    "print(\"x = y\")\n",
    "print(\"x: \",x)\n",
    "print(\"y: \",y)\n",
    "print()\n",
    "y[1] = -1\n",
    "print(\"y[1] = -1\")\n",
    "print(\"x: \",x)\n",
    "print(\"y: \",y)\n",
    "print()\n",
    "\n",
    "# deep copy\n",
    "x = np.array([1,2,3])\n",
    "y = np.array([4,5,6])\n",
    "print(\"DEEP COPY\")\n",
    "print(\"original\")\n",
    "print(\"x: \",x)\n",
    "print(\"y: \",y)\n",
    "print()\n",
    "x = np.copy(y)\n",
    "print(\"x = np.copy(y)\")\n",
    "print(\"x: \",x)\n",
    "print(\"y: \",y)\n",
    "print()\n",
    "y[1] = -1\n",
    "print(\"y[1] = -1\")\n",
    "print(\"x: \",x)\n",
    "print(\"y: \",y)\n",
    "print()\n",
    "\n",
    "# ただし、配列の形状がいびつな場合はcopyがうまくいかず、参照渡しとなる。\n",
    "# 配列の形状がいびつな場合でdeep copyをしたい場合は、\n",
    "# import copyして、x = copy.deepcopy(y)とする。"
   ]
  },
  {
   "cell_type": "code",
   "execution_count": null,
   "metadata": {},
   "outputs": [],
   "source": []
  }
 ],
 "metadata": {
  "kernelspec": {
   "display_name": "Python 3",
   "language": "python",
   "name": "python3"
  },
  "language_info": {
   "codemirror_mode": {
    "name": "ipython",
    "version": 3
   },
   "file_extension": ".py",
   "mimetype": "text/x-python",
   "name": "python",
   "nbconvert_exporter": "python",
   "pygments_lexer": "ipython3",
   "version": "3.7.2"
  }
 },
 "nbformat": 4,
 "nbformat_minor": 2
}
