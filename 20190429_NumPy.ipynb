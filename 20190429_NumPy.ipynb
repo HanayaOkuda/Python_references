{
 "cells": [
  {
   "cell_type": "markdown",
   "metadata": {},
   "source": [
    "## NumPy (https://docs.scipy.org/doc/numpy/release.html)"
   ]
  },
  {
   "cell_type": "code",
   "execution_count": 177,
   "metadata": {},
   "outputs": [],
   "source": [
    "import numpy as np\n",
    "from scipy import optimize\n",
    "import matplotlib.pyplot as plt"
   ]
  },
  {
   "cell_type": "markdown",
   "metadata": {},
   "source": [
    "## Vector"
   ]
  },
  {
   "cell_type": "code",
   "execution_count": 178,
   "metadata": {
    "scrolled": true
   },
   "outputs": [
    {
     "name": "stdout",
     "output_type": "stream",
     "text": [
      "DECLARE\n",
      "x:  [1 2 3]\n",
      "y:  [4 5 6]\n",
      "\n",
      "ARITHMETIC\n",
      "+:  [5 7 9]\n",
      "-:  [-3 -3 -3]\n",
      "*:  [ 4 10 18]\n",
      "/:  [0.25 0.4  0.5 ]\n",
      "**:  [  1  32 729]\n",
      "+1:  [2 3 4]\n",
      "\n",
      "FUNCTIONS\n",
      "sin:  [0.84147098 0.90929743 0.14112001]\n",
      "cos:  [ 0.54030231 -0.41614684 -0.9899925 ]\n",
      "exp:  [ 2.71828183  7.3890561  20.08553692]\n",
      "log:  [0.         0.69314718 1.09861229]\n",
      "etc...\n"
     ]
    }
   ],
   "source": [
    "# declare\n",
    "x = np.array([1,2,3])\n",
    "y = np.array([4,5,6])\n",
    "print(\"DECLARE\")\n",
    "print(\"x: \",x)\n",
    "print(\"y: \",y)\n",
    "print()\n",
    "\n",
    "# arithmetic (Fortranに似てる)\n",
    "print(\"ARITHMETIC\")\n",
    "print(\"+: \",x+y)\n",
    "print(\"-: \",x-y)\n",
    "print(\"*: \",x*y)\n",
    "print(\"/: \",x/y)\n",
    "print(\"**: \",x**y)\n",
    "print(\"+1: \",x+1)\n",
    "print()\n",
    "\n",
    "# functions (Fortranに似てる)\n",
    "print(\"FUNCTIONS\")\n",
    "print(\"sin: \",np.sin(x))\n",
    "print(\"cos: \",np.cos(x))\n",
    "print(\"exp: \",np.exp(x))\n",
    "print(\"log: \",np.log(x))\n",
    "print(\"etc...\")"
   ]
  },
  {
   "cell_type": "code",
   "execution_count": 179,
   "metadata": {},
   "outputs": [
    {
     "name": "stdout",
     "output_type": "stream",
     "text": [
      "DOT PRODUCT\n",
      "np.dot(x,y):  32\n",
      "x.dot(y):  32\n",
      "\n",
      "CROSS PRODUCT\n",
      "np.cross(x,y):  [-3  6 -3]\n",
      "\n",
      "ROW TO COLUMN\n",
      "c[:,np.newaxis]:  [[-3]\n",
      " [ 6]\n",
      " [-3]]\n"
     ]
    }
   ],
   "source": [
    "# dot product\n",
    "print(\"DOT PRODUCT\")\n",
    "print(\"np.dot(x,y): \",np.dot(x,y))\n",
    "print(\"x.dot(y): \",x.dot(y))\n",
    "print()\n",
    "\n",
    "# cross product\n",
    "print(\"CROSS PRODUCT\")\n",
    "c = np.cross(x,y)\n",
    "print(\"np.cross(x,y): \",c)\n",
    "print()\n",
    "\n",
    "# row to column\n",
    "print(\"ROW TO COLUMN\")\n",
    "print(\"c[:,np.newaxis]: \",c[:,np.newaxis])"
   ]
  },
  {
   "cell_type": "code",
   "execution_count": 180,
   "metadata": {},
   "outputs": [
    {
     "name": "stdout",
     "output_type": "stream",
     "text": [
      "SHALLOW COPY\n",
      "original\n",
      "x:  [1 2 3]\n",
      "y:  [4 5 6]\n",
      "\n",
      "x = y\n",
      "x:  [4 5 6]\n",
      "y:  [4 5 6]\n",
      "\n",
      "y[1] = -1\n",
      "x:  [ 4 -1  6]\n",
      "y:  [ 4 -1  6]\n",
      "\n",
      "DEEP COPY\n",
      "original\n",
      "x:  [1 2 3]\n",
      "y:  [4 5 6]\n",
      "\n",
      "x = np.copy(y)\n",
      "x:  [4 5 6]\n",
      "y:  [4 5 6]\n",
      "\n",
      "y[1] = -1\n",
      "x:  [4 5 6]\n",
      "y:  [ 4 -1  6]\n",
      "\n"
     ]
    }
   ],
   "source": [
    "# shallow copy (Fortranと違う)\n",
    "x = np.array([1,2,3])\n",
    "y = np.array([4,5,6])\n",
    "print(\"SHALLOW COPY\")\n",
    "print(\"original\")\n",
    "print(\"x: \",x)\n",
    "print(\"y: \",y)\n",
    "print()\n",
    "x = y\n",
    "print(\"x = y\")\n",
    "print(\"x: \",x)\n",
    "print(\"y: \",y)\n",
    "print()\n",
    "y[1] = -1\n",
    "print(\"y[1] = -1\")\n",
    "print(\"x: \",x)\n",
    "print(\"y: \",y)\n",
    "print()\n",
    "\n",
    "# deep copy\n",
    "x = np.array([1,2,3])\n",
    "y = np.array([4,5,6])\n",
    "print(\"DEEP COPY\")\n",
    "print(\"original\")\n",
    "print(\"x: \",x)\n",
    "print(\"y: \",y)\n",
    "print()\n",
    "x = np.copy(y)\n",
    "print(\"x = np.copy(y)\")\n",
    "print(\"x: \",x)\n",
    "print(\"y: \",y)\n",
    "print()\n",
    "y[1] = -1\n",
    "print(\"y[1] = -1\")\n",
    "print(\"x: \",x)\n",
    "print(\"y: \",y)\n",
    "print()\n",
    "\n",
    "# ただし、配列の形状がいびつな場合はcopyがうまくいかず、参照渡しとなる。\n",
    "# 配列の形状がいびつな場合でdeep copyをしたい場合は、\n",
    "# import copyして、x = copy.deepcopy(y)とする。"
   ]
  },
  {
   "cell_type": "markdown",
   "metadata": {},
   "source": [
    "## Matrix"
   ]
  },
  {
   "cell_type": "code",
   "execution_count": 181,
   "metadata": {},
   "outputs": [
    {
     "name": "stdout",
     "output_type": "stream",
     "text": [
      "DECLARE\n",
      "a:  [[1 2 3]\n",
      " [4 5 6]]\n",
      "b:  [[4 5 6]\n",
      " [7 8 9]]\n",
      "\n",
      "ARITHMETIC\n",
      "+:  [[ 5  7  9]\n",
      " [11 13 15]]\n",
      "-:  [[-3 -3 -3]\n",
      " [-3 -3 -3]]\n",
      "*:  [[ 4 10 18]\n",
      " [28 40 54]]\n",
      "/:  [[0.25       0.4        0.5       ]\n",
      " [0.57142857 0.625      0.66666667]]\n",
      "**:  [[       1       32      729]\n",
      " [   16384   390625 10077696]]\n",
      "+1:  [[2 3 4]\n",
      " [5 6 7]]\n",
      "\n",
      "FUNCTIONS\n",
      "sin:  [[ 0.84147098  0.90929743  0.14112001]\n",
      " [-0.7568025  -0.95892427 -0.2794155 ]]\n",
      "cos:  [[ 0.54030231 -0.41614684 -0.9899925 ]\n",
      " [-0.65364362  0.28366219  0.96017029]]\n",
      "exp:  [[  2.71828183   7.3890561   20.08553692]\n",
      " [ 54.59815003 148.4131591  403.42879349]]\n",
      "log:  [[0.         0.69314718 1.09861229]\n",
      " [1.38629436 1.60943791 1.79175947]]\n",
      "etc...\n"
     ]
    }
   ],
   "source": [
    "# declare\n",
    "a = np.array([[1,2,3],[4,5,6]])\n",
    "b = np.array([[4,5,6],[7,8,9]])\n",
    "print(\"DECLARE\")\n",
    "print(\"a: \",a)\n",
    "print(\"b: \",b)\n",
    "print()\n",
    "\n",
    "# arithmetic (Fortranに似てる)\n",
    "print(\"ARITHMETIC\")\n",
    "print(\"+: \",a+b)\n",
    "print(\"-: \",a-b)\n",
    "print(\"*: \",a*b)\n",
    "print(\"/: \",a/b)\n",
    "print(\"**: \",a**b)\n",
    "print(\"+1: \",a+1)\n",
    "print()\n",
    "\n",
    "# functions (Fortranに似てる)\n",
    "print(\"FUNCTIONS\")\n",
    "print(\"sin: \",np.sin(a))\n",
    "print(\"cos: \",np.cos(a))\n",
    "print(\"exp: \",np.exp(a))\n",
    "print(\"log: \",np.log(a))\n",
    "print(\"etc...\")"
   ]
  },
  {
   "cell_type": "code",
   "execution_count": 182,
   "metadata": {},
   "outputs": [
    {
     "name": "stdout",
     "output_type": "stream",
     "text": [
      "c:  [ 0  1  2  3  4  5  6  7  8  9 10 11 12 13 14 15 16 17 18 19 20 21 22 23]\n",
      "c.reshape([3,8]):  [[ 0  1  2  3  4  5  6  7]\n",
      " [ 8  9 10 11 12 13 14 15]\n",
      " [16 17 18 19 20 21 22 23]]\n",
      "c.reshape(3,8):  [[ 0  1  2  3  4  5  6  7]\n",
      " [ 8  9 10 11 12 13 14 15]\n",
      " [16 17 18 19 20 21 22 23]]\n",
      "np.reshape(c,[3,8]):  [[ 0  1  2  3  4  5  6  7]\n",
      " [ 8  9 10 11 12 13 14 15]\n",
      " [16 17 18 19 20 21 22 23]]\n",
      "c.reshape(3,-1):  [[ 0  1  2  3  4  5  6  7]\n",
      " [ 8  9 10 11 12 13 14 15]\n",
      " [16 17 18 19 20 21 22 23]]\n"
     ]
    }
   ],
   "source": [
    "# reshape\n",
    "c = np.arange(24)\n",
    "print(\"c: \",c)\n",
    "print(\"c.reshape([3,8]): \",c.reshape([3,8]))\n",
    "print(\"c.reshape(3,8): \",c.reshape(3,8))\n",
    "print(\"np.reshape(c,[3,8]): \",np.reshape(c,[3,8]))\n",
    "# np.reshape(c,3,8)はダメ\n",
    "print(\"c.reshape(3,-1): \",c.reshape(3,-1))\n",
    "# -1を指定すると自動で形状を計算してくれる\n",
    "\n",
    "# 引数にorder='F'やorder='C'を入れると、\n",
    "# 配列の順序をFortran式かC言語式として指定できる。\n",
    "# defaultはorder='C'。"
   ]
  },
  {
   "cell_type": "code",
   "execution_count": 183,
   "metadata": {},
   "outputs": [
    {
     "name": "stdout",
     "output_type": "stream",
     "text": [
      "a:  [[1 2 3]\n",
      " [4 5 6]]\n",
      "b:  [[4 5 6]\n",
      " [7 8 9]]\n",
      "\n",
      "TRANSPOSE\n",
      "b.T:  [[4 7]\n",
      " [5 8]\n",
      " [6 9]]\n",
      "\n",
      "MATRIX MULTIPLY\n",
      "np.dot(a,b.T):  [[ 32  50]\n",
      " [ 77 122]]\n",
      "a.dot(b.T):  [[ 32  50]\n",
      " [ 77 122]]\n",
      "\n",
      "SHAPE\n",
      "np.shape(a):  (2, 3)\n",
      "np.shape(b.T):  (3, 2)\n",
      "np.shape(m):  (2, 2)\n",
      "\n",
      "TRACE\n",
      "np.trace(m):  154\n",
      "\n",
      "DETERMINANT\n",
      "np.linalg.det(m):  54.00000000000022\n",
      "\n",
      "RANK\n",
      "np.linalg.matrix_rank(m):  2\n",
      "\n",
      "NORM\n",
      "np.linalg.norm(m):  156.00320509528\n",
      "\n",
      "INVERSE\n",
      "np.linalg.inv(m):  [[ 2.25925926 -0.92592593]\n",
      " [-1.42592593  0.59259259]]\n",
      "np.matrix(m).I:  [[ 2.25925926 -0.92592593]\n",
      " [-1.42592593  0.59259259]]\n",
      "np.linalg.solve(m,np.identity(np.shape(m)[0])):  [[ 2.25925926 -0.92592593]\n",
      " [-1.42592593  0.59259259]]\n",
      "\n",
      "EIGEN VALUE, EIGEN VALUE\n",
      "eigen value0:  0.35145141622052734\n",
      "eigen vector0:  [-0.84495745  0.53483354]\n",
      "eigen value1:  153.64854858377947\n",
      "eigen vector1:  [-0.38016088 -0.92492038]\n"
     ]
    }
   ],
   "source": [
    "a = np.array([[1,2,3],[4,5,6]])\n",
    "b = np.array([[4,5,6],[7,8,9]])\n",
    "print(\"a: \",a)\n",
    "print(\"b: \",b)\n",
    "print()\n",
    "\n",
    "# transpose\n",
    "print(\"TRANSPOSE\")\n",
    "print(\"b.T: \",b.T)\n",
    "print()\n",
    "\n",
    "# matrix multiply\n",
    "print(\"MATRIX MULTIPLY\")\n",
    "m = np.dot(a,b.T)\n",
    "print(\"np.dot(a,b.T): \",m)\n",
    "m = a.dot(b.T)\n",
    "print(\"a.dot(b.T): \",m)\n",
    "print()\n",
    "\n",
    "# shape\n",
    "print(\"SHAPE\")\n",
    "print(\"np.shape(a): \",np.shape(a))\n",
    "print(\"np.shape(b.T): \",np.shape(b.T))\n",
    "print(\"np.shape(m): \",np.shape(m))\n",
    "print()\n",
    "\n",
    "# trace\n",
    "print(\"TRACE\")\n",
    "print(\"np.trace(m): \",np.trace(m))\n",
    "print()\n",
    "\n",
    "# determinant\n",
    "print(\"DETERMINANT\")\n",
    "print(\"np.linalg.det(m): \",np.linalg.det(m))\n",
    "print()\n",
    "\n",
    "# rank\n",
    "print(\"RANK\")\n",
    "print(\"np.linalg.matrix_rank(m): \",np.linalg.matrix_rank(m))\n",
    "print()\n",
    "\n",
    "# norm\n",
    "print(\"NORM\")\n",
    "print(\"np.linalg.norm(m): \",np.linalg.norm(m))\n",
    "print()\n",
    "\n",
    "# inverse\n",
    "print(\"INVERSE\")\n",
    "print(\"np.linalg.inv(m): \",np.linalg.inv(m))\n",
    "print(\"np.matrix(m).I: \",np.matrix(m).I)\n",
    "print(\"np.linalg.solve(m,np.identity(np.shape(m)[0])): \",np.linalg.solve(m,np.identity(np.shape(m)[0])))\n",
    "print()\n",
    "\n",
    "# eigen value, eigen vector\n",
    "print(\"EIGEN VALUE, EIGEN VALUE\")\n",
    "w,v = np.linalg.eig(m)\n",
    "print(\"eigen value0: \",w[0])\n",
    "print(\"eigen vector0: \",v[:,0])\n",
    "print(\"eigen value1: \",w[1])\n",
    "print(\"eigen vector1: \",v[:,1])"
   ]
  },
  {
   "cell_type": "markdown",
   "metadata": {},
   "source": [
    "## Examples"
   ]
  },
  {
   "cell_type": "code",
   "execution_count": 184,
   "metadata": {
    "scrolled": true
   },
   "outputs": [
    {
     "name": "stdout",
     "output_type": "stream",
     "text": [
      "x:  [ 0.          1.11111111  2.22222222  3.33333333  4.44444444  5.55555556\n",
      "  6.66666667  7.77777778  8.88888889 10.        ]\n",
      "y:  [ 8.93664733  9.7703464  20.86171436 27.5363808  35.38728697 43.53245078\n",
      " 50.83936975 51.64264053 57.67611425 65.93679631]\n",
      "\n",
      "a (true):  5.886908837657112\n",
      "b (true):  7.289904266262345\n",
      "\n",
      "a (manual1):  5.892548057447013\n",
      "b (manual1):  7.777430559477246\n",
      "\n",
      "a (manual2):  5.892548057447019\n",
      "b (manual2):  7.749234460527717\n",
      "\n",
      "a (polyfit):  5.892548057447017\n",
      "b (polyfit):  7.749234460527714\n",
      "\n"
     ]
    },
    {
     "data": {
      "image/png": "[encoded data removed]",
      "text/plain": [
       "<Figure size 432x288 with 1 Axes>"
      ]
     },
     "metadata": {
      "needs_background": "light"
     },
     "output_type": "display_data"
    },
    {
     "name": "stdout",
     "output_type": "stream",
     "text": [
      "a (leastsq):  5.892548056405194\n",
      "b (leastsq):  7.7492344763830845\n",
      "\n",
      "a (curve_fit):  5.892548053068149\n",
      "b (curve_fit):  7.749234482422058\n",
      "\n"
     ]
    }
   ],
   "source": [
    "n = 10\n",
    "a = n*np.random.rand()\n",
    "b = n*np.random.rand()\n",
    "x = np.linspace(0,n,n)\n",
    "y = a*x + b + 0.5*n*(np.random.rand(n) - np.random.rand(n))\n",
    "print(\"x: \",x)\n",
    "print(\"y: \",y)\n",
    "print()\n",
    "plt.plot(x,y,\".\",c=\"b\",label=\"data\")\n",
    "\n",
    "# answer\n",
    "print(\"a (true): \",a)\n",
    "print(\"b (true): \",b)\n",
    "print()\n",
    "plt.plot(x,a*x+b,\"-\",c=\"r\",label=\"true\")\n",
    "\n",
    "# fitting (manual1)\n",
    "mx = np.average(x)\n",
    "my = np.mean(y)\n",
    "mx2 = np.dot(x,x)/n\n",
    "mxy = np.sum(x*y)/n\n",
    "den = mx2 - mx*mx\n",
    "p = (mxy-mx*my)/den\n",
    "q = my-a*mx\n",
    "print(\"a (manual1): \",p)\n",
    "print(\"b (manual1): \",q)\n",
    "print()\n",
    "plt.plot(x,p*x+q,\"-\",c=\"g\",label=\"manual1\")\n",
    "\n",
    "# fitting (manual2)\n",
    "m = np.array([[mx2,mx],[mx,1]])\n",
    "s = np.dot(np.linalg.inv(m),np.array([mxy,my]))\n",
    "p = s[0]\n",
    "q = s[1]\n",
    "print(\"a (manual2): \",p)\n",
    "print(\"b (manual2): \",q)\n",
    "print()\n",
    "plt.plot(x,p*x+q,\"-\",c=\"orange\",label=\"manual2\")\n",
    "\n",
    "# fitting (polyfit)\n",
    "p,q = np.polyfit(x,y,1)\n",
    "print(\"a (polyfit): \",p)\n",
    "print(\"b (polyfit): \",q)\n",
    "print()\n",
    "plt.plot(x,p*x+q,\"-\",c=\"indigo\",label=\"polyfit\")\n",
    "\n",
    "plt.legend(loc=\"best\")\n",
    "plt.show()\n",
    "\n",
    "### SciPy ###\n",
    "\n",
    "def f(p,x,y):\n",
    "    return y - (p[0]*x+p[1])\n",
    "\n",
    "def g(x,a,b):\n",
    "    return a*x + b\n",
    "\n",
    "# fitting (optimize.leastsq)\n",
    "s,t = optimize.leastsq(f,[n/2,n/2],args=(x,y))\n",
    "p = s[0]\n",
    "q = s[1]\n",
    "print(\"a (leastsq): \",p)\n",
    "print(\"b (leastsq): \",q)\n",
    "print()\n",
    "\n",
    "# fitting (optimize.curve_fit)\n",
    "s,t = optimize.curve_fit(g,x,y)\n",
    "p = s[0]\n",
    "q = s[1]\n",
    "print(\"a (curve_fit): \",p)\n",
    "print(\"b (curve_fit): \",q)\n",
    "print()"
   ]
  },
  {
   "cell_type": "markdown",
   "metadata": {},
   "source": [
    "## FFT"
   ]
  },
  {
   "cell_type": "code",
   "execution_count": 233,
   "metadata": {},
   "outputs": [
    {
     "data": {
      "image/png": "[encoded data removed]",
      "text/plain": [
       "<Figure size 432x288 with 2 Axes>"
      ]
     },
     "metadata": {
      "needs_background": "light"
     },
     "output_type": "display_data"
    },
    {
     "name": "stdout",
     "output_type": "stream",
     "text": [
      "[0.         0.25851804 0.49795959 0.70217434 0.8602792  0.96795891\n",
      " 1.0274997  1.04660546 1.03630353 1.0084302 ]\n",
      "[6.65163114e-17 2.58518038e-01 4.97959591e-01 7.02174339e-01\n",
      " 8.60279205e-01 9.67958906e-01 1.02749970e+00 1.04660546e+00\n",
      " 1.03630353e+00 1.00843020e+00]\n"
     ]
    }
   ],
   "source": [
    "n = 1024\n",
    "h = int(n/2)\n",
    "dt = 0.001\n",
    "t = np.arange(0,n*dt,dt)\n",
    "u = np.zeros(n)\n",
    "for i in range(1,5):\n",
    "    k = 20*i\n",
    "    u += np.sin(2*np.pi*k*t)/np.power(i,2)\n",
    "a = np.fft.fft(u)\n",
    "a = np.abs(a)\n",
    "f = np.fft.fftfreq(n)\n",
    "f /= dt\n",
    "\n",
    "plt.axes([0,0,1,1])\n",
    "plt.plot(t,u,\"-\",c=\"r\")\n",
    "plt.title(\"Time\")\n",
    "plt.axes([1.2,0,1,1])\n",
    "plt.plot(f[:h],a[:h],\"-\",c=\"r\")\n",
    "plt.xlim(0,100)\n",
    "plt.title(\"Frequency\")\n",
    "plt.show()\n",
    "\n",
    "v = np.fft.ifft(np.fft.fft(u))\n",
    "print(u[:10])\n",
    "print(np.abs(v[:10]))"
   ]
  },
  {
   "cell_type": "code",
   "execution_count": null,
   "metadata": {},
   "outputs": [],
   "source": []
  }
 ],
 "metadata": {
  "kernelspec": {
   "display_name": "Python 3",
   "language": "python",
   "name": "python3"
  },
  "language_info": {
   "codemirror_mode": {
    "name": "ipython",
    "version": 3
   },
   "file_extension": ".py",
   "mimetype": "text/x-python",
   "name": "python",
   "nbconvert_exporter": "python",
   "pygments_lexer": "ipython3",
   "version": "3.7.2"
  }
 },
 "nbformat": 4,
 "nbformat_minor": 2
}
